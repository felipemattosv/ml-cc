{
 "cells": [
  {
   "cell_type": "code",
   "execution_count": 11,
   "metadata": {},
   "outputs": [],
   "source": [
    "import numpy as np\n",
    "import pandas as pd\n",
    "import tensorflow as tf\n",
    "from tensorflow.keras import layers\n",
    "from matplotlib import pyplot as plt\n",
    "\n",
    "# The following lines adjust the granularity of reporting.\n",
    "pd.options.display.max_rows = 10\n",
    "pd.options.display.float_format = \"{:.1f}\".format"
   ]
  },
  {
   "cell_type": "code",
   "execution_count": 12,
   "metadata": {},
   "outputs": [],
   "source": [
    "train_df = pd.read_csv(\"https://download.mlcc.google.com/mledu-datasets/california_housing_train.csv\")\n",
    "test_df = pd.read_csv(\"https://download.mlcc.google.com/mledu-datasets/california_housing_test.csv\")\n",
    "train_df = train_df.reindex(np.random.permutation(train_df.index)) # shuffle the training set"
   ]
  },
  {
   "cell_type": "markdown",
   "metadata": {},
   "source": [
    "### Examine data"
   ]
  },
  {
   "cell_type": "code",
   "execution_count": 13,
   "metadata": {},
   "outputs": [
    {
     "data": {
      "text/html": [
       "<div>\n",
       "<style scoped>\n",
       "    .dataframe tbody tr th:only-of-type {\n",
       "        vertical-align: middle;\n",
       "    }\n",
       "\n",
       "    .dataframe tbody tr th {\n",
       "        vertical-align: top;\n",
       "    }\n",
       "\n",
       "    .dataframe thead th {\n",
       "        text-align: right;\n",
       "    }\n",
       "</style>\n",
       "<table border=\"1\" class=\"dataframe\">\n",
       "  <thead>\n",
       "    <tr style=\"text-align: right;\">\n",
       "      <th></th>\n",
       "      <th>longitude</th>\n",
       "      <th>latitude</th>\n",
       "      <th>housing_median_age</th>\n",
       "      <th>total_rooms</th>\n",
       "      <th>total_bedrooms</th>\n",
       "      <th>population</th>\n",
       "      <th>households</th>\n",
       "      <th>median_income</th>\n",
       "      <th>median_house_value</th>\n",
       "    </tr>\n",
       "  </thead>\n",
       "  <tbody>\n",
       "    <tr>\n",
       "      <th>3637</th>\n",
       "      <td>-117.9</td>\n",
       "      <td>34.0</td>\n",
       "      <td>32.0</td>\n",
       "      <td>1819.0</td>\n",
       "      <td>375.0</td>\n",
       "      <td>1728.0</td>\n",
       "      <td>375.0</td>\n",
       "      <td>4.0</td>\n",
       "      <td>162400.0</td>\n",
       "    </tr>\n",
       "    <tr>\n",
       "      <th>3393</th>\n",
       "      <td>-117.9</td>\n",
       "      <td>33.7</td>\n",
       "      <td>24.0</td>\n",
       "      <td>534.0</td>\n",
       "      <td>88.0</td>\n",
       "      <td>249.0</td>\n",
       "      <td>74.0</td>\n",
       "      <td>5.3</td>\n",
       "      <td>240500.0</td>\n",
       "    </tr>\n",
       "    <tr>\n",
       "      <th>2693</th>\n",
       "      <td>-117.7</td>\n",
       "      <td>33.6</td>\n",
       "      <td>19.0</td>\n",
       "      <td>2962.0</td>\n",
       "      <td>405.0</td>\n",
       "      <td>1295.0</td>\n",
       "      <td>440.0</td>\n",
       "      <td>6.1</td>\n",
       "      <td>248000.0</td>\n",
       "    </tr>\n",
       "    <tr>\n",
       "      <th>4909</th>\n",
       "      <td>-118.1</td>\n",
       "      <td>33.9</td>\n",
       "      <td>43.0</td>\n",
       "      <td>1237.0</td>\n",
       "      <td>243.0</td>\n",
       "      <td>776.0</td>\n",
       "      <td>246.0</td>\n",
       "      <td>4.3</td>\n",
       "      <td>166000.0</td>\n",
       "    </tr>\n",
       "    <tr>\n",
       "      <th>8027</th>\n",
       "      <td>-118.4</td>\n",
       "      <td>34.2</td>\n",
       "      <td>34.0</td>\n",
       "      <td>3004.0</td>\n",
       "      <td>589.0</td>\n",
       "      <td>1938.0</td>\n",
       "      <td>568.0</td>\n",
       "      <td>4.2</td>\n",
       "      <td>198600.0</td>\n",
       "    </tr>\n",
       "  </tbody>\n",
       "</table>\n",
       "</div>"
      ],
      "text/plain": [
       "      longitude  latitude  housing_median_age  total_rooms  total_bedrooms  \\\n",
       "3637     -117.9      34.0                32.0       1819.0           375.0   \n",
       "3393     -117.9      33.7                24.0        534.0            88.0   \n",
       "2693     -117.7      33.6                19.0       2962.0           405.0   \n",
       "4909     -118.1      33.9                43.0       1237.0           243.0   \n",
       "8027     -118.4      34.2                34.0       3004.0           589.0   \n",
       "\n",
       "      population  households  median_income  median_house_value  \n",
       "3637      1728.0       375.0            4.0            162400.0  \n",
       "3393       249.0        74.0            5.3            240500.0  \n",
       "2693      1295.0       440.0            6.1            248000.0  \n",
       "4909       776.0       246.0            4.3            166000.0  \n",
       "8027      1938.0       568.0            4.2            198600.0  "
      ]
     },
     "execution_count": 13,
     "metadata": {},
     "output_type": "execute_result"
    }
   ],
   "source": [
    "train_df.head()"
   ]
  },
  {
   "cell_type": "markdown",
   "metadata": {},
   "source": [
    "### Normalize values with Z score"
   ]
  },
  {
   "cell_type": "code",
   "execution_count": 14,
   "metadata": {},
   "outputs": [
    {
     "data": {
      "text/html": [
       "<div>\n",
       "<style scoped>\n",
       "    .dataframe tbody tr th:only-of-type {\n",
       "        vertical-align: middle;\n",
       "    }\n",
       "\n",
       "    .dataframe tbody tr th {\n",
       "        vertical-align: top;\n",
       "    }\n",
       "\n",
       "    .dataframe thead th {\n",
       "        text-align: right;\n",
       "    }\n",
       "</style>\n",
       "<table border=\"1\" class=\"dataframe\">\n",
       "  <thead>\n",
       "    <tr style=\"text-align: right;\">\n",
       "      <th></th>\n",
       "      <th>longitude</th>\n",
       "      <th>latitude</th>\n",
       "      <th>housing_median_age</th>\n",
       "      <th>total_rooms</th>\n",
       "      <th>total_bedrooms</th>\n",
       "      <th>population</th>\n",
       "      <th>households</th>\n",
       "      <th>median_income</th>\n",
       "      <th>median_house_value</th>\n",
       "    </tr>\n",
       "  </thead>\n",
       "  <tbody>\n",
       "    <tr>\n",
       "      <th>3637</th>\n",
       "      <td>0.8</td>\n",
       "      <td>-0.7</td>\n",
       "      <td>0.3</td>\n",
       "      <td>-0.4</td>\n",
       "      <td>-0.4</td>\n",
       "      <td>0.3</td>\n",
       "      <td>-0.3</td>\n",
       "      <td>0.0</td>\n",
       "      <td>-0.4</td>\n",
       "    </tr>\n",
       "    <tr>\n",
       "      <th>3393</th>\n",
       "      <td>0.8</td>\n",
       "      <td>-0.9</td>\n",
       "      <td>-0.4</td>\n",
       "      <td>-1.0</td>\n",
       "      <td>-1.1</td>\n",
       "      <td>-1.0</td>\n",
       "      <td>-1.1</td>\n",
       "      <td>0.8</td>\n",
       "      <td>0.3</td>\n",
       "    </tr>\n",
       "    <tr>\n",
       "      <th>2693</th>\n",
       "      <td>0.9</td>\n",
       "      <td>-0.9</td>\n",
       "      <td>-0.8</td>\n",
       "      <td>0.1</td>\n",
       "      <td>-0.3</td>\n",
       "      <td>-0.1</td>\n",
       "      <td>-0.2</td>\n",
       "      <td>1.1</td>\n",
       "      <td>0.4</td>\n",
       "    </tr>\n",
       "    <tr>\n",
       "      <th>4909</th>\n",
       "      <td>0.7</td>\n",
       "      <td>-0.8</td>\n",
       "      <td>1.1</td>\n",
       "      <td>-0.6</td>\n",
       "      <td>-0.7</td>\n",
       "      <td>-0.6</td>\n",
       "      <td>-0.7</td>\n",
       "      <td>0.2</td>\n",
       "      <td>-0.4</td>\n",
       "    </tr>\n",
       "    <tr>\n",
       "      <th>8027</th>\n",
       "      <td>0.6</td>\n",
       "      <td>-0.7</td>\n",
       "      <td>0.4</td>\n",
       "      <td>0.2</td>\n",
       "      <td>0.1</td>\n",
       "      <td>0.4</td>\n",
       "      <td>0.2</td>\n",
       "      <td>0.2</td>\n",
       "      <td>-0.1</td>\n",
       "    </tr>\n",
       "  </tbody>\n",
       "</table>\n",
       "</div>"
      ],
      "text/plain": [
       "      longitude  latitude  housing_median_age  total_rooms  total_bedrooms  \\\n",
       "3637        0.8      -0.7                 0.3         -0.4            -0.4   \n",
       "3393        0.8      -0.9                -0.4         -1.0            -1.1   \n",
       "2693        0.9      -0.9                -0.8          0.1            -0.3   \n",
       "4909        0.7      -0.8                 1.1         -0.6            -0.7   \n",
       "8027        0.6      -0.7                 0.4          0.2             0.1   \n",
       "\n",
       "      population  households  median_income  median_house_value  \n",
       "3637         0.3        -0.3            0.0                -0.4  \n",
       "3393        -1.0        -1.1            0.8                 0.3  \n",
       "2693        -0.1        -0.2            1.1                 0.4  \n",
       "4909        -0.6        -0.7            0.2                -0.4  \n",
       "8027         0.4         0.2            0.2                -0.1  "
      ]
     },
     "execution_count": 14,
     "metadata": {},
     "output_type": "execute_result"
    }
   ],
   "source": [
    "# Get the training set metrics\n",
    "train_df_mean = train_df.mean()\n",
    "train_df_std = train_df.std()\n",
    "\n",
    "# Normalize the training set\n",
    "train_df_norm = (train_df - train_df_mean)/train_df_std\n",
    "\n",
    "# Normalize the test set (always using the training set metrics)\n",
    "test_df_norm = (test_df - train_df_mean)/train_df_std\n",
    "\n",
    "# Examine some values of the normalized training set (Z-scores fall between -3 and 3)\n",
    "train_df_norm.head()"
   ]
  },
  {
   "cell_type": "markdown",
   "metadata": {},
   "source": [
    "### Create a binary label (\"median_house_value_is_high\")"
   ]
  },
  {
   "cell_type": "code",
   "execution_count": 15,
   "metadata": {},
   "outputs": [],
   "source": [
    "# the following possible solution uses a Z-score of +1.0 as the threshold, meaning that no more than 16% of the values in median_house_value_is_high will be labeled 1.\n",
    "threshold_in_Z = 1.0\n",
    "\n",
    "train_df_norm[\"median_house_value_is_high\"] = (train_df_norm[\"median_house_value\"] > threshold_in_Z).astype(float)\n",
    "\n",
    "test_df_norm[\"median_house_value_is_high\"] = (test_df_norm[\"median_house_value\"] > threshold_in_Z).astype(float)\n"
   ]
  },
  {
   "cell_type": "markdown",
   "metadata": {},
   "source": [
    "### Represent features as input layers"
   ]
  },
  {
   "cell_type": "code",
   "execution_count": 16,
   "metadata": {},
   "outputs": [],
   "source": [
    "inputs = {\n",
    "# Features used to train the model on.\n",
    "  'median_income': tf.keras.Input(shape=(1,)),\n",
    "  'total_rooms': tf.keras.Input(shape=(1,))\n",
    "}"
   ]
  },
  {
   "cell_type": "markdown",
   "metadata": {},
   "source": [
    "### Define functions that create and train a model\n",
    "\n",
    "Note that, since we are building a Classification model from a Logistic regressor, the activation function used is a sigmoid function."
   ]
  },
  {
   "cell_type": "code",
   "execution_count": 17,
   "metadata": {},
   "outputs": [],
   "source": [
    "def create_model(my_inputs, my_learning_rate, METRICS):\n",
    "  # Use a Concatenate layer to concatenate the input layers into a single tensor.\n",
    "  # as input for the Dense layer. Ex: [input_1[0][0], input_2[0][0]]\n",
    "  concatenated_inputs = tf.keras.layers.Concatenate()(my_inputs.values())\n",
    "  dense = layers.Dense(units=1, name='dense_layer', activation=tf.sigmoid)\n",
    "  dense_output = dense(concatenated_inputs)\n",
    "  \"\"\"Create and compile a simple classification model.\"\"\"\n",
    "  my_outputs = {\n",
    "    'dense': dense_output,\n",
    "  }\n",
    "  model = tf.keras.Model(inputs=my_inputs, outputs=my_outputs)\n",
    "\n",
    "  # Call the compile method to construct the layers into a model that\n",
    "  # TensorFlow can execute.  Notice that we're using a different loss\n",
    "  # function for classification than for regression.\n",
    "  model.compile(optimizer=tf.keras.optimizers.experimental.RMSprop(learning_rate=my_learning_rate),\n",
    "                loss=tf.keras.losses.BinaryCrossentropy(),\n",
    "                metrics=METRICS)\n",
    "  return model\n",
    "\n",
    "\n",
    "def train_model(model, dataset, epochs, label_name,\n",
    "                batch_size=None, shuffle=True):\n",
    "  \"\"\"Feed a dataset into the model in order to train it.\"\"\"\n",
    "\n",
    "  # The x parameter of tf.keras.Model.fit can be a list of arrays, where\n",
    "  # each array contains the data for one feature.  Here, we're passing\n",
    "  # every column in the dataset. Note that the feature_layer will filter\n",
    "  # away most of those columns, leaving only the desired columns and their\n",
    "  # representations as features.\n",
    "  features = {name:np.array(value) for name, value in dataset.items()}\n",
    "  label = np.array(features.pop(label_name))\n",
    "  history = model.fit(x=features, y=label, batch_size=batch_size,\n",
    "                      epochs=epochs, shuffle=shuffle)\n",
    "\n",
    "  # The list of epochs is stored separately from the rest of history.\n",
    "  epochs = history.epoch\n",
    "\n",
    "  # Isolate the classification metric for each epoch.\n",
    "  hist = pd.DataFrame(history.history)\n",
    "\n",
    "  return epochs, hist"
   ]
  },
  {
   "cell_type": "markdown",
   "metadata": {},
   "source": [
    "### Define a plot function"
   ]
  },
  {
   "cell_type": "code",
   "execution_count": 18,
   "metadata": {},
   "outputs": [],
   "source": [
    "def plot_curve(epochs, hist, list_of_metrics):\n",
    "  \"\"\"Plot a curve of one or more classification metrics vs. epoch.\"\"\"\n",
    "  # list_of_metrics should be one of the names shown in:\n",
    "  # https://www.tensorflow.org/tutorials/structured_data/imbalanced_data#define_the_model_and_metrics\n",
    "\n",
    "  plt.figure()\n",
    "  plt.xlabel(\"Epoch\")\n",
    "  plt.ylabel(\"Value\")\n",
    "\n",
    "  for m in list_of_metrics:\n",
    "    x = hist[m]\n",
    "    plt.plot(epochs[1:], x[1:], label=m)\n",
    "\n",
    "  plt.legend()"
   ]
  },
  {
   "cell_type": "markdown",
   "metadata": {},
   "source": [
    "### Invoke the defined functions"
   ]
  },
  {
   "cell_type": "code",
   "execution_count": 20,
   "metadata": {},
   "outputs": [
    {
     "name": "stdout",
     "output_type": "stream",
     "text": [
      "Epoch 1/20\n",
      "170/170 [==============================] - 0s 937us/step - loss: 0.7760 - accuracy: 0.1639\n",
      "Epoch 2/20\n",
      "170/170 [==============================] - 0s 908us/step - loss: 0.6784 - accuracy: 0.1886\n",
      "Epoch 3/20\n",
      "170/170 [==============================] - 0s 876us/step - loss: 0.5952 - accuracy: 0.3262\n",
      "Epoch 4/20\n",
      "170/170 [==============================] - 0s 882us/step - loss: 0.5254 - accuracy: 0.6316\n",
      "Epoch 5/20\n",
      "170/170 [==============================] - 0s 900us/step - loss: 0.4692 - accuracy: 0.7781\n",
      "Epoch 6/20\n",
      "170/170 [==============================] - 0s 900us/step - loss: 0.4250 - accuracy: 0.8296\n",
      "Epoch 7/20\n",
      "170/170 [==============================] - 0s 900us/step - loss: 0.3911 - accuracy: 0.8506\n",
      "Epoch 8/20\n",
      "170/170 [==============================] - 0s 888us/step - loss: 0.3661 - accuracy: 0.8609\n",
      "Epoch 9/20\n",
      "170/170 [==============================] - 0s 888us/step - loss: 0.3477 - accuracy: 0.8656\n",
      "Epoch 10/20\n",
      "170/170 [==============================] - 0s 900us/step - loss: 0.3348 - accuracy: 0.8701\n",
      "Epoch 11/20\n",
      "170/170 [==============================] - 0s 888us/step - loss: 0.3261 - accuracy: 0.8719\n",
      "Epoch 12/20\n",
      "170/170 [==============================] - 0s 900us/step - loss: 0.3206 - accuracy: 0.8729\n",
      "Epoch 13/20\n",
      "170/170 [==============================] - 0s 911us/step - loss: 0.3173 - accuracy: 0.8737\n",
      "Epoch 14/20\n",
      "170/170 [==============================] - 0s 894us/step - loss: 0.3154 - accuracy: 0.8741\n",
      "Epoch 15/20\n",
      "170/170 [==============================] - 0s 906us/step - loss: 0.3143 - accuracy: 0.8741\n",
      "Epoch 16/20\n",
      "170/170 [==============================] - 0s 935us/step - loss: 0.3136 - accuracy: 0.8737\n",
      "Epoch 17/20\n",
      "170/170 [==============================] - 0s 906us/step - loss: 0.3132 - accuracy: 0.8744\n",
      "Epoch 18/20\n",
      "170/170 [==============================] - 0s 906us/step - loss: 0.3129 - accuracy: 0.8741\n",
      "Epoch 19/20\n",
      "170/170 [==============================] - 0s 900us/step - loss: 0.3127 - accuracy: 0.8736\n",
      "Epoch 20/20\n",
      "170/170 [==============================] - 0s 911us/step - loss: 0.3127 - accuracy: 0.8744\n"
     ]
    },
    {
     "data": {
      "image/png": "[encoded data removed]",
      "text/plain": [
       "<Figure size 640x480 with 1 Axes>"
      ]
     },
     "metadata": {},
     "output_type": "display_data"
    }
   ],
   "source": [
    "# The following variables are the hyperparameters.\n",
    "learning_rate = 0.001\n",
    "epochs = 20\n",
    "batch_size = 100\n",
    "label_name = \"median_house_value_is_high\"\n",
    "classification_threshold = 0.35\n",
    "\n",
    "# Establish the metrics the model will measure.\n",
    "METRICS = [\n",
    "           tf.keras.metrics.BinaryAccuracy(name='accuracy',\n",
    "                                           threshold=classification_threshold),\n",
    "          ]\n",
    "\n",
    "# Establish the model's topography.\n",
    "my_model = create_model(inputs, learning_rate, METRICS)\n",
    "\n",
    "# Visualize the model's architecture.\n",
    "tf.keras.utils.plot_model(my_model, \"my_classification_model.png\")\n",
    "\n",
    "# Train the model on the training set.\n",
    "epochs, hist = train_model(my_model, train_df_norm, epochs,\n",
    "                           label_name, batch_size)\n",
    "\n",
    "# Plot a graph of the metric(s) vs. epochs.\n",
    "list_of_metrics_to_plot = ['accuracy']\n",
    "\n",
    "plot_curve(epochs, hist, list_of_metrics_to_plot)"
   ]
  },
  {
   "cell_type": "markdown",
   "metadata": {},
   "source": [
    "### Evauating the model agains the test set"
   ]
  },
  {
   "cell_type": "code",
   "execution_count": 21,
   "metadata": {},
   "outputs": [
    {
     "name": "stdout",
     "output_type": "stream",
     "text": [
      "30/30 [==============================] - 0s 1ms/step - loss: 0.3056 - accuracy: 0.8770\n"
     ]
    },
    {
     "data": {
      "text/plain": [
       "[0.305634081363678, 0.8769999742507935]"
      ]
     },
     "execution_count": 21,
     "metadata": {},
     "output_type": "execute_result"
    }
   ],
   "source": [
    "features = {name:np.array(value) for name, value in test_df_norm.items()}\n",
    "label = np.array(features.pop(label_name))\n",
    "\n",
    "my_model.evaluate(x = features, y = label, batch_size=batch_size)"
   ]
  },
  {
   "cell_type": "markdown",
   "metadata": {},
   "source": [
    "### A perfect model would make 100% accurate predictions. Our model makes 87% accurate predictions. 87% sounds good, but note that a model that always guesses \"median_house_value_is_high is False\" would be 75% accurate."
   ]
  },
  {
   "cell_type": "markdown",
   "metadata": {},
   "source": [
    "### Analizing Precision and Recall metrics"
   ]
  },
  {
   "cell_type": "code",
   "execution_count": 23,
   "metadata": {},
   "outputs": [
    {
     "name": "stdout",
     "output_type": "stream",
     "text": [
      "Epoch 1/20\n",
      "170/170 [==============================] - 1s 953us/step - loss: 0.6950 - accuracy: 0.2841 - precision: 0.1696 - recall: 0.8686\n",
      "Epoch 2/20\n",
      "170/170 [==============================] - 0s 953us/step - loss: 0.6005 - accuracy: 0.3598 - precision: 0.1860 - recall: 0.8650\n",
      "Epoch 3/20\n",
      "170/170 [==============================] - 0s 947us/step - loss: 0.5249 - accuracy: 0.5157 - precision: 0.2310 - recall: 0.8437\n",
      "Epoch 4/20\n",
      "170/170 [==============================] - 0s 929us/step - loss: 0.4663 - accuracy: 0.6488 - precision: 0.2918 - recall: 0.8059\n",
      "Epoch 5/20\n",
      "170/170 [==============================] - 0s 935us/step - loss: 0.4230 - accuracy: 0.7258 - precision: 0.3455 - recall: 0.7587\n",
      "Epoch 6/20\n",
      "170/170 [==============================] - 0s 982us/step - loss: 0.3912 - accuracy: 0.7731 - precision: 0.3937 - recall: 0.7209\n",
      "Epoch 7/20\n",
      "170/170 [==============================] - 0s 959us/step - loss: 0.3679 - accuracy: 0.8032 - precision: 0.4350 - recall: 0.6849\n",
      "Epoch 8/20\n",
      "170/170 [==============================] - 0s 941us/step - loss: 0.3505 - accuracy: 0.8241 - precision: 0.4720 - recall: 0.6485\n",
      "Epoch 9/20\n",
      "170/170 [==============================] - 0s 959us/step - loss: 0.3378 - accuracy: 0.8425 - precision: 0.5150 - recall: 0.6165\n",
      "Epoch 10/20\n",
      "170/170 [==============================] - 0s 941us/step - loss: 0.3285 - accuracy: 0.8562 - precision: 0.5573 - recall: 0.5830\n",
      "Epoch 11/20\n",
      "170/170 [==============================] - 0s 941us/step - loss: 0.3221 - accuracy: 0.8620 - precision: 0.5815 - recall: 0.5535\n",
      "Epoch 12/20\n",
      "170/170 [==============================] - 0s 959us/step - loss: 0.3180 - accuracy: 0.8678 - precision: 0.6073 - recall: 0.5391\n",
      "Epoch 13/20\n",
      "170/170 [==============================] - 0s 929us/step - loss: 0.3157 - accuracy: 0.8712 - precision: 0.6250 - recall: 0.5293\n",
      "Epoch 14/20\n",
      "170/170 [==============================] - 0s 941us/step - loss: 0.3144 - accuracy: 0.8723 - precision: 0.6312 - recall: 0.5250\n",
      "Epoch 15/20\n",
      "170/170 [==============================] - 0s 923us/step - loss: 0.3137 - accuracy: 0.8738 - precision: 0.6396 - recall: 0.5214\n",
      "Epoch 16/20\n",
      "170/170 [==============================] - 0s 953us/step - loss: 0.3132 - accuracy: 0.8739 - precision: 0.6409 - recall: 0.5185\n",
      "Epoch 17/20\n",
      "170/170 [==============================] - 0s 941us/step - loss: 0.3129 - accuracy: 0.8741 - precision: 0.6416 - recall: 0.5189\n",
      "Epoch 18/20\n",
      "170/170 [==============================] - 0s 929us/step - loss: 0.3128 - accuracy: 0.8742 - precision: 0.6423 - recall: 0.5185\n",
      "Epoch 19/20\n",
      "170/170 [==============================] - 0s 929us/step - loss: 0.3127 - accuracy: 0.8741 - precision: 0.6420 - recall: 0.5185\n",
      "Epoch 20/20\n",
      "170/170 [==============================] - 0s 923us/step - loss: 0.3126 - accuracy: 0.8741 - precision: 0.6420 - recall: 0.5185\n"
     ]
    },
    {
     "data": {
      "image/png": "[encoded data removed]",
      "text/plain": [
       "<Figure size 640x480 with 1 Axes>"
      ]
     },
     "metadata": {},
     "output_type": "display_data"
    }
   ],
   "source": [
    "# The following variables are the hyperparameters.\n",
    "learning_rate = 0.001\n",
    "epochs = 20\n",
    "batch_size = 100\n",
    "classification_threshold = 0.35\n",
    "label_name = \"median_house_value_is_high\"\n",
    "\n",
    "# Modify the following definition of METRICS to generate\n",
    "# not only accuracy and precision, but also recall:\n",
    "METRICS = [\n",
    "      tf.keras.metrics.BinaryAccuracy(name='accuracy',\n",
    "                                      threshold=classification_threshold),\n",
    "      tf.keras.metrics.Precision(thresholds=classification_threshold,\n",
    "                                 name='precision'\n",
    "                                 ),\n",
    "      tf.keras.metrics.Recall(thresholds=classification_threshold,\n",
    "                                name=\"recall\"),\n",
    "]\n",
    "\n",
    "# Establish the model's topography.\n",
    "my_model = create_model(inputs, learning_rate, METRICS)\n",
    "\n",
    "# Train the model on the training set.\n",
    "epochs, hist = train_model(my_model, train_df_norm, epochs,\n",
    "                           label_name, batch_size)\n",
    "\n",
    "# Plot metrics vs. epochs\n",
    "list_of_metrics_to_plot = ['accuracy', 'precision', 'recall']\n",
    "plot_curve(epochs, hist, list_of_metrics_to_plot)"
   ]
  },
  {
   "cell_type": "markdown",
   "metadata": {},
   "source": [
    "### The new graphs suggest that precision and recall are somewhat in conflict. That is, improvements to one of those metrics may hurt the other metric."
   ]
  },
  {
   "cell_type": "markdown",
   "metadata": {},
   "source": [
    "#### Note that we could spend some time tunning the classification threshold."
   ]
  },
  {
   "cell_type": "markdown",
   "metadata": {},
   "source": [
    "### Summarizing the model performance with the AUC metric"
   ]
  },
  {
   "cell_type": "code",
   "execution_count": 24,
   "metadata": {},
   "outputs": [
    {
     "name": "stdout",
     "output_type": "stream",
     "text": [
      "Epoch 1/20\n",
      "170/170 [==============================] - 1s 959us/step - loss: 0.6443 - auc: 0.7706\n",
      "Epoch 2/20\n",
      "170/170 [==============================] - 0s 894us/step - loss: 0.5689 - auc: 0.8321\n",
      "Epoch 3/20\n",
      "170/170 [==============================] - 0s 911us/step - loss: 0.5087 - auc: 0.8361\n",
      "Epoch 4/20\n",
      "170/170 [==============================] - 0s 923us/step - loss: 0.4602 - auc: 0.8380\n",
      "Epoch 5/20\n",
      "170/170 [==============================] - 0s 900us/step - loss: 0.4222 - auc: 0.8378\n",
      "Epoch 6/20\n",
      "170/170 [==============================] - 0s 917us/step - loss: 0.3922 - auc: 0.8389\n",
      "Epoch 7/20\n",
      "170/170 [==============================] - 0s 994us/step - loss: 0.3693 - auc: 0.8392\n",
      "Epoch 8/20\n",
      "170/170 [==============================] - 0s 923us/step - loss: 0.3518 - auc: 0.8393\n",
      "Epoch 9/20\n",
      "170/170 [==============================] - 0s 911us/step - loss: 0.3386 - auc: 0.8395\n",
      "Epoch 10/20\n",
      "170/170 [==============================] - 0s 911us/step - loss: 0.3291 - auc: 0.8396\n",
      "Epoch 11/20\n",
      "170/170 [==============================] - 0s 906us/step - loss: 0.3225 - auc: 0.8394\n",
      "Epoch 12/20\n",
      "170/170 [==============================] - 0s 906us/step - loss: 0.3184 - auc: 0.8394\n",
      "Epoch 13/20\n",
      "170/170 [==============================] - 0s 911us/step - loss: 0.3159 - auc: 0.8396\n",
      "Epoch 14/20\n",
      "170/170 [==============================] - 0s 906us/step - loss: 0.3144 - auc: 0.8396\n",
      "Epoch 15/20\n",
      "170/170 [==============================] - 0s 929us/step - loss: 0.3136 - auc: 0.8396\n",
      "Epoch 16/20\n",
      "170/170 [==============================] - 0s 917us/step - loss: 0.3132 - auc: 0.8395\n",
      "Epoch 17/20\n",
      "170/170 [==============================] - 0s 929us/step - loss: 0.3129 - auc: 0.8396\n",
      "Epoch 18/20\n",
      "170/170 [==============================] - 0s 953us/step - loss: 0.3128 - auc: 0.8394\n",
      "Epoch 19/20\n",
      "170/170 [==============================] - 0s 929us/step - loss: 0.3127 - auc: 0.8395\n",
      "Epoch 20/20\n",
      "170/170 [==============================] - 0s 917us/step - loss: 0.3126 - auc: 0.8396\n"
     ]
    },
    {
     "data": {
      "image/png": "[encoded data removed]",
      "text/plain": [
       "<Figure size 640x480 with 1 Axes>"
      ]
     },
     "metadata": {},
     "output_type": "display_data"
    }
   ],
   "source": [
    "# The following variables are the hyperparameters.\n",
    "learning_rate = 0.001\n",
    "epochs = 20\n",
    "batch_size = 100\n",
    "label_name = \"median_house_value_is_high\"\n",
    "\n",
    "# AUC is a reasonable \"summary\" metric for\n",
    "# classification models.\n",
    "# Here is the updated definition of METRICS to\n",
    "# measure AUC:\n",
    "METRICS = [\n",
    "      tf.keras.metrics.AUC(num_thresholds=100, name='auc'),\n",
    "]\n",
    "\n",
    "# Establish the model's topography.\n",
    "my_model = create_model(inputs, learning_rate, METRICS)\n",
    "\n",
    "# Train the model on the training set.\n",
    "epochs, hist = train_model(my_model, train_df_norm, epochs,\n",
    "                           label_name, batch_size)\n",
    "\n",
    "# Plot metrics vs. epochs\n",
    "list_of_metrics_to_plot = ['auc']\n",
    "plot_curve(epochs, hist, list_of_metrics_to_plot)"
   ]
  }
 ],
 "metadata": {
  "kernelspec": {
   "display_name": "FelipeAlbuquerque",
   "language": "python",
   "name": "python3"
  },
  "language_info": {
   "codemirror_mode": {
    "name": "ipython",
    "version": 3
   },
   "file_extension": ".py",
   "mimetype": "text/x-python",
   "name": "python",
   "nbconvert_exporter": "python",
   "pygments_lexer": "ipython3",
   "version": "3.8.18"
  }
 },
 "nbformat": 4,
 "nbformat_minor": 2
}
