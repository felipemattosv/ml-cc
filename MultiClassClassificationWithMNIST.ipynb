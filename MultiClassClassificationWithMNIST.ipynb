{
 "cells": [
  {
   "cell_type": "code",
   "execution_count": 1,
   "metadata": {},
   "outputs": [],
   "source": [
    "import numpy as np\n",
    "import pandas as pd\n",
    "import tensorflow as tf\n",
    "from tensorflow.keras import layers\n",
    "from matplotlib import pyplot as plt\n",
    "\n",
    "# The following lines adjust the granularity of reporting. \n",
    "pd.options.display.max_rows = 10\n",
    "pd.options.display.float_format = \"{:.1f}\".format\n",
    "\n",
    "# The following line improves formatting when ouputting NumPy arrays.\n",
    "np.set_printoptions(linewidth = 200)"
   ]
  },
  {
   "cell_type": "markdown",
   "metadata": {},
   "source": [
    "### The Dataset\n",
    "\n",
    "This MNIST dataset contains a lot of examples:\n",
    "\n",
    "* The MNIST training set contains 60,000 examples.\n",
    "* The MNIST test set contains 10,000 examples.\n",
    "\n",
    "Each example in the MNIST dataset consists of:\n",
    "\n",
    "* A label specified by a [rater](https://developers.google.com/machine-learning/glossary/#rater).  Each label must be an integer from 0 to 9.  For example, in the preceding image, the rater would almost certainly assign the label `1` to the example.\n",
    "* A 28x28 pixel map, where each pixel is an integer between 0 and 255. The pixel values are on a gray scale in which 0 represents white, 255 represents black, and values between 0 and 255 represent various shades of gray.  \n",
    "\n",
    "This is a multi-class classification problem with 10 output classes, one for each digit."
   ]
  },
  {
   "cell_type": "code",
   "execution_count": 4,
   "metadata": {},
   "outputs": [],
   "source": [
    "(x_train, y_train),(x_test, y_test) = tf.keras.datasets.mnist.load_data()"
   ]
  },
  {
   "cell_type": "markdown",
   "metadata": {},
   "source": [
    "### Visualizing a example"
   ]
  },
  {
   "cell_type": "code",
   "execution_count": 5,
   "metadata": {},
   "outputs": [
    {
     "data": {
      "text/plain": [
       "array([[  0,   0,   0,   0,   0,   0,   0,   0,   0,   0,   0,   0,   0,   0,   0,   0,   0,   0,   0,   0,   0,   0,   0,   0,   0,   0,   0,   0],\n",
       "       [  0,   0,   0,   0,   0,   0,   0,   0,   0,   0,   0,   0,   0,   0,   0,   0,   0,   0,   0,   0,   0,   0,   0,   0,   0,   0,   0,   0],\n",
       "       [  0,   0,   0,   0,   0,   0,   0,   0,   0,   0,   0,   0,   0,   0,   0,   0,   0,   0,   0,   0,   0,   0,   0,   0,   0,   0,   0,   0],\n",
       "       [  0,   0,   0,   0,   0,   0,   0,   0,   0,   0,   0,   0,   0,   0,   0,   0,   0,   0,   0,   0,   0,   0,   0,   0,   0,   0,   0,   0],\n",
       "       [  0,   0,   0,   0,   0,   0,   0,   0,   0,   0,   0,   0,   0,   0,   0,   0,   0,   0,   0,   0,   0,   0,   0,   0,   0,   0,   0,   0],\n",
       "       [  0,   0,   0,   0,   0,   0,   0,   0,   0,   0,   0,   0,   0,   0,   0,   0,   0,   0,   0,   0,   0,   0,   0,   0,   0,   0,   0,   0],\n",
       "       [  0,   0,   0,   0,   0,   0,   0,   0, 127, 100, 156, 239, 224, 177, 213, 159,  70,  13,   0,   0,   0,   0,   0,   0,   0,   0,   0,   0],\n",
       "       [  0,   0,   0,   0,   0,   0,   0, 110, 250, 254, 254, 254, 254, 254, 254, 254, 254, 184,  10,   0,   0,   0,   0,   0,   0,   0,   0,   0],\n",
       "       [  0,   0,   0,   0,   0,   0,   0, 216, 254, 254, 254, 254, 254, 254, 254, 254, 254, 251,  54,   0,   0,   0,   0,   0,   0,   0,   0,   0],\n",
       "       [  0,   0,   0,   0,   0,   0,   0,   3, 131, 197,  68, 137, 101,  83,  41,  70, 221, 254, 108,   0,   0,   0,   0,   0,   0,   0,   0,   0],\n",
       "       [  0,   0,   0,   0,   0,   0,   0,   0,   0,   0,   0,   0,   0,   0,   0,   0,  58, 254, 216,  11,   0,   0,   0,   0,   0,   0,   0,   0],\n",
       "       [  0,   0,   0,   0,   0,   0,   0,   0,   0,   0,   0,   0,   0,   0,   0,   0, 110, 254, 254,  24,   0,   0,   0,   0,   0,   0,   0,   0],\n",
       "       [  0,   0,   0,   0,   0,   0,   0,   0,   0,   0,   0,   0,   0,   0,   4,  83, 247, 254, 192,  10,   0,   0,   0,   0,   0,   0,   0,   0],\n",
       "       [  0,   0,   0,   0,   0,   0,   0,   0,   0,   0,   0,   0,   0,  37, 124, 254, 254, 250,  47,   0,   0,   0,   0,   0,   0,   0,   0,   0],\n",
       "       [  0,   0,   0,   0,   0,   0,   0,   0,   0,   0,   0, 113, 178, 250, 254, 254, 254, 252, 178, 128,  50,   0,   0,   0,   0,   0,   0,   0],\n",
       "       [  0,   0,   0,   0,   0,   0,   0,   0,   0,   0,  69, 252, 254, 254, 254, 254, 254, 254, 254, 254, 153,   0,   0,   0,   0,   0,   0,   0],\n",
       "       [  0,   0,   0,   0,   0,   0,   0,   0,   0,   0, 141, 252, 254, 241, 241, 254, 247, 252, 254, 254, 153,   0,   0,   0,   0,   0,   0,   0],\n",
       "       [  0,   0,   0,   0,   0,   0,   0,   0,   0,   0,   0,  68,  82,   5,   5,  82,  37,  65, 167, 254, 190,   0,   0,   0,   0,   0,   0,   0],\n",
       "       [  0,   0,   0,   0,   0,   0,   0,   0,   0,   0,   0,   0,   0,   0,   0,   0,   0,   0, 162, 254, 153,   0,   0,   0,   0,   0,   0,   0],\n",
       "       [  0,   0,   0,   0,   0,   0,   0,   0,   0,   0,   0,   0,   0,   0,   0,   0,   0,   1, 172, 253,  75,   0,   0,   0,   0,   0,   0,   0],\n",
       "       [  0,   0,   0,   0,   0,   0,   0,   0,   0,   0,   0,   0,   0,   0,   0,   0,   0, 102, 254, 152,   0,   0,   0,   0,   0,   0,   0,   0],\n",
       "       [  0,   0,   0,   0,   0,   0,   0,   0,   0,   0,   0,   0,   0,   0,   0,   0,  38, 230, 216,  20,   0,   0,   0,   0,   0,   0,   0,   0],\n",
       "       [  0,   0,   0,   0,   0,   0,   0,   0,   0,   0,   0,   0,   0,   0,   1,  71, 222, 254, 142,   0,   0,   0,   0,   0,   0,   0,   0,   0],\n",
       "       [  0,   0,   0,   0,   0,   0,   0,   0,   0,   0,   0,   0,   0,   0,  66, 254, 254, 157,   0,   0,   0,   0,   0,   0,   0,   0,   0,   0],\n",
       "       [  0,   0,   0,   0,   0,   0,   0,   0,   4,  34,  34,  78, 161, 226, 249, 254, 154,   6,   0,   0,   0,   0,   0,   0,   0,   0,   0,   0],\n",
       "       [  0,   0,   0,   0,   0,   0,   0,  96, 184, 254, 254, 254, 254, 254, 249,  93,   5,   0,   0,   0,   0,   0,   0,   0,   0,   0,   0,   0],\n",
       "       [  0,   0,   0,   0,   0,   0,   0,   0,   0,   0,   0,   0,   0,   0,   0,   0,   0,   0,   0,   0,   0,   0,   0,   0,   0,   0,   0,   0],\n",
       "       [  0,   0,   0,   0,   0,   0,   0,   0,   0,   0,   0,   0,   0,   0,   0,   0,   0,   0,   0,   0,   0,   0,   0,   0,   0,   0,   0,   0]], dtype=uint8)"
      ]
     },
     "execution_count": 5,
     "metadata": {},
     "output_type": "execute_result"
    }
   ],
   "source": [
    "x_train[2917]"
   ]
  },
  {
   "cell_type": "markdown",
   "metadata": {},
   "source": [
    "### Visualizing with matplotlib"
   ]
  },
  {
   "cell_type": "code",
   "execution_count": 6,
   "metadata": {},
   "outputs": [
    {
     "data": {
      "text/plain": [
       "<matplotlib.image.AxesImage at 0x205bfcb6ee0>"
      ]
     },
     "execution_count": 6,
     "metadata": {},
     "output_type": "execute_result"
    },
    {
     "data": {
      "image/png": "[encoded data removed]",
      "text/plain": [
       "<Figure size 640x480 with 1 Axes>"
      ]
     },
     "metadata": {},
     "output_type": "display_data"
    }
   ],
   "source": [
    "plt.imshow(x_train[2917])"
   ]
  },
  {
   "cell_type": "markdown",
   "metadata": {},
   "source": [
    "### Normalizing feature values\n",
    "\n",
    "Map [0, 255] to [0.0, 1.0]"
   ]
  },
  {
   "cell_type": "code",
   "execution_count": 7,
   "metadata": {},
   "outputs": [],
   "source": [
    "x_train_normalized = x_train / 255.0\n",
    "x_test_normalized = x_test / 255.0"
   ]
  },
  {
   "cell_type": "markdown",
   "metadata": {},
   "source": [
    "### Define the plotting function"
   ]
  },
  {
   "cell_type": "code",
   "execution_count": 8,
   "metadata": {},
   "outputs": [],
   "source": [
    "def plot_curve(epochs, hist, list_of_metrics):\n",
    "  \"\"\"Plot a curve of one or more classification metrics vs. epoch.\"\"\"  \n",
    "  # list_of_metrics should be one of the names shown in:\n",
    "  # https://www.tensorflow.org/tutorials/structured_data/imbalanced_data#define_the_model_and_metrics  \n",
    "\n",
    "  plt.figure()\n",
    "  plt.xlabel(\"Epoch\")\n",
    "  plt.ylabel(\"Value\")\n",
    "\n",
    "  for m in list_of_metrics:\n",
    "    x = hist[m]\n",
    "    plt.plot(epochs[1:], x[1:], label=m)\n",
    "\n",
    "  plt.legend()"
   ]
  },
  {
   "cell_type": "markdown",
   "metadata": {},
   "source": [
    "### Create a Deep Neural Net model\n",
    "\n",
    "The function below defines:\n",
    "- the number of layers\n",
    "- the number of nodes in each layer\n",
    "- regularization layers\n",
    "- the activation function of each layer\n",
    "\n",
    "The **activation function of the output layer is softmax**, which will yield 10 different outputs for each example. Each of the 10 outputs provides the probability that the input example is a certain digit."
   ]
  },
  {
   "cell_type": "code",
   "execution_count": 12,
   "metadata": {},
   "outputs": [],
   "source": [
    "def create_model(my_learning_rate):\n",
    "  \"\"\"Create and compile a deep neural net.\"\"\"\n",
    "  \n",
    "  # All models in this course are sequential.\n",
    "  model = tf.keras.models.Sequential()\n",
    "\n",
    "  # The features are stored in a two-dimensional 28X28 array. \n",
    "  # Flatten that two-dimensional array into a one-dimensional \n",
    "  # 784-element array.\n",
    "  model.add(tf.keras.layers.Flatten(input_shape=(28, 28)))\n",
    "\n",
    "  # Define the first hidden layer.   \n",
    "  model.add(tf.keras.layers.Dense(units=256, activation='relu'))\n",
    "\n",
    "  # Define the second hidden layer.   \n",
    "  model.add(tf.keras.layers.Dense(units=128, activation='relu'))\n",
    "  \n",
    "  # Define a dropout regularization layer. \n",
    "  model.add(tf.keras.layers.Dropout(rate=0.2))\n",
    "\n",
    "  # Define the output layer. The units parameter is set to 10 because\n",
    "  # the model must choose among 10 possible output values (representing\n",
    "  # the digits from 0 to 9, inclusive).\n",
    "  #\n",
    "  # Don't change this layer.\n",
    "  model.add(tf.keras.layers.Dense(units=10, activation='softmax'))     \n",
    "                           \n",
    "  # Construct the layers into a model that TensorFlow can execute.  \n",
    "  # Notice that the loss function for multi-class classification\n",
    "  # is different than the loss function for binary classification.  \n",
    "  model.compile(optimizer=tf.keras.optimizers.Adam(learning_rate=my_learning_rate),\n",
    "                loss=\"sparse_categorical_crossentropy\",\n",
    "                metrics=['accuracy'])\n",
    "  \n",
    "  return model    \n",
    "\n",
    "\n",
    "def train_model(model, train_features, train_label, epochs,\n",
    "                batch_size=None, validation_split=0.1):\n",
    "  \"\"\"Train the model by feeding it data.\"\"\"\n",
    "\n",
    "  history = model.fit(x=train_features, y=train_label, batch_size=batch_size,\n",
    "                      epochs=epochs, shuffle=True, \n",
    "                      validation_split=validation_split)\n",
    " \n",
    "  # To track the progression of training, gather a snapshot\n",
    "  # of the model's metrics at each epoch. \n",
    "  epochs = history.epoch\n",
    "  hist = pd.DataFrame(history.history)\n",
    "\n",
    "  return epochs, hist"
   ]
  },
  {
   "cell_type": "markdown",
   "metadata": {},
   "source": [
    "### Invoke model functions"
   ]
  },
  {
   "cell_type": "code",
   "execution_count": 13,
   "metadata": {},
   "outputs": [
    {
     "name": "stdout",
     "output_type": "stream",
     "text": [
      "Epoch 1/50\n",
      "12/12 [==============================] - 1s 35ms/step - loss: 1.0060 - accuracy: 0.6982 - val_loss: 0.3386 - val_accuracy: 0.9028\n",
      "Epoch 2/50\n",
      "12/12 [==============================] - 0s 22ms/step - loss: 0.3520 - accuracy: 0.8948 - val_loss: 0.2412 - val_accuracy: 0.9305\n",
      "Epoch 3/50\n",
      "12/12 [==============================] - 0s 21ms/step - loss: 0.2466 - accuracy: 0.9271 - val_loss: 0.1868 - val_accuracy: 0.9454\n",
      "Epoch 4/50\n",
      "12/12 [==============================] - 0s 21ms/step - loss: 0.1910 - accuracy: 0.9434 - val_loss: 0.1552 - val_accuracy: 0.9550\n",
      "Epoch 5/50\n",
      "12/12 [==============================] - 0s 21ms/step - loss: 0.1578 - accuracy: 0.9534 - val_loss: 0.1360 - val_accuracy: 0.9602\n",
      "Epoch 6/50\n",
      "12/12 [==============================] - 0s 22ms/step - loss: 0.1340 - accuracy: 0.9604 - val_loss: 0.1263 - val_accuracy: 0.9630\n",
      "Epoch 7/50\n",
      "12/12 [==============================] - 0s 21ms/step - loss: 0.1157 - accuracy: 0.9654 - val_loss: 0.1136 - val_accuracy: 0.9645\n",
      "Epoch 8/50\n",
      "12/12 [==============================] - 0s 21ms/step - loss: 0.0997 - accuracy: 0.9702 - val_loss: 0.1070 - val_accuracy: 0.9675\n",
      "Epoch 9/50\n",
      "12/12 [==============================] - 0s 22ms/step - loss: 0.0851 - accuracy: 0.9749 - val_loss: 0.0995 - val_accuracy: 0.9703\n",
      "Epoch 10/50\n",
      "12/12 [==============================] - 0s 21ms/step - loss: 0.0762 - accuracy: 0.9771 - val_loss: 0.0947 - val_accuracy: 0.9701\n",
      "Epoch 11/50\n",
      "12/12 [==============================] - 0s 22ms/step - loss: 0.0685 - accuracy: 0.9799 - val_loss: 0.0897 - val_accuracy: 0.9736\n",
      "Epoch 12/50\n",
      "12/12 [==============================] - 0s 21ms/step - loss: 0.0602 - accuracy: 0.9822 - val_loss: 0.0924 - val_accuracy: 0.9704\n",
      "Epoch 13/50\n",
      "12/12 [==============================] - 0s 23ms/step - loss: 0.0545 - accuracy: 0.9838 - val_loss: 0.0830 - val_accuracy: 0.9752\n",
      "Epoch 14/50\n",
      "12/12 [==============================] - 0s 23ms/step - loss: 0.0487 - accuracy: 0.9858 - val_loss: 0.0813 - val_accuracy: 0.9747\n",
      "Epoch 15/50\n",
      "12/12 [==============================] - 0s 21ms/step - loss: 0.0426 - accuracy: 0.9874 - val_loss: 0.0799 - val_accuracy: 0.9763\n",
      "Epoch 16/50\n",
      "12/12 [==============================] - 0s 22ms/step - loss: 0.0381 - accuracy: 0.9891 - val_loss: 0.0824 - val_accuracy: 0.9747\n",
      "Epoch 17/50\n",
      "12/12 [==============================] - 0s 24ms/step - loss: 0.0348 - accuracy: 0.9899 - val_loss: 0.0788 - val_accuracy: 0.9762\n",
      "Epoch 18/50\n",
      "12/12 [==============================] - 0s 21ms/step - loss: 0.0303 - accuracy: 0.9914 - val_loss: 0.0832 - val_accuracy: 0.9757\n",
      "Epoch 19/50\n",
      "12/12 [==============================] - 0s 21ms/step - loss: 0.0270 - accuracy: 0.9924 - val_loss: 0.0801 - val_accuracy: 0.9762\n",
      "Epoch 20/50\n",
      "12/12 [==============================] - 0s 21ms/step - loss: 0.0249 - accuracy: 0.9936 - val_loss: 0.0804 - val_accuracy: 0.9765\n",
      "Epoch 21/50\n",
      "12/12 [==============================] - 0s 24ms/step - loss: 0.0217 - accuracy: 0.9942 - val_loss: 0.0784 - val_accuracy: 0.9768\n",
      "Epoch 22/50\n",
      "12/12 [==============================] - 0s 22ms/step - loss: 0.0203 - accuracy: 0.9948 - val_loss: 0.0789 - val_accuracy: 0.9770\n",
      "Epoch 23/50\n",
      "12/12 [==============================] - 0s 21ms/step - loss: 0.0185 - accuracy: 0.9955 - val_loss: 0.0828 - val_accuracy: 0.9768\n",
      "Epoch 24/50\n",
      "12/12 [==============================] - 0s 21ms/step - loss: 0.0161 - accuracy: 0.9960 - val_loss: 0.0807 - val_accuracy: 0.9775\n",
      "Epoch 25/50\n",
      "12/12 [==============================] - 0s 24ms/step - loss: 0.0150 - accuracy: 0.9961 - val_loss: 0.0831 - val_accuracy: 0.9779\n",
      "Epoch 26/50\n",
      "12/12 [==============================] - 0s 21ms/step - loss: 0.0135 - accuracy: 0.9967 - val_loss: 0.0792 - val_accuracy: 0.9772\n",
      "Epoch 27/50\n",
      "12/12 [==============================] - 0s 22ms/step - loss: 0.0121 - accuracy: 0.9971 - val_loss: 0.0835 - val_accuracy: 0.9772\n",
      "Epoch 28/50\n",
      "12/12 [==============================] - 0s 22ms/step - loss: 0.0107 - accuracy: 0.9976 - val_loss: 0.0841 - val_accuracy: 0.9783\n",
      "Epoch 29/50\n",
      "12/12 [==============================] - 0s 22ms/step - loss: 0.0103 - accuracy: 0.9978 - val_loss: 0.0855 - val_accuracy: 0.9777\n",
      "Epoch 30/50\n",
      "12/12 [==============================] - 0s 21ms/step - loss: 0.0092 - accuracy: 0.9980 - val_loss: 0.0829 - val_accuracy: 0.9783\n",
      "Epoch 31/50\n",
      "12/12 [==============================] - 0s 21ms/step - loss: 0.0089 - accuracy: 0.9982 - val_loss: 0.0849 - val_accuracy: 0.9778\n",
      "Epoch 32/50\n",
      "12/12 [==============================] - 0s 21ms/step - loss: 0.0082 - accuracy: 0.9982 - val_loss: 0.0896 - val_accuracy: 0.9765\n",
      "Epoch 33/50\n",
      "12/12 [==============================] - 0s 22ms/step - loss: 0.0076 - accuracy: 0.9984 - val_loss: 0.0890 - val_accuracy: 0.9778\n",
      "Epoch 34/50\n",
      "12/12 [==============================] - 0s 21ms/step - loss: 0.0073 - accuracy: 0.9983 - val_loss: 0.0868 - val_accuracy: 0.9792\n",
      "Epoch 35/50\n",
      "12/12 [==============================] - 0s 21ms/step - loss: 0.0073 - accuracy: 0.9986 - val_loss: 0.0883 - val_accuracy: 0.9782\n",
      "Epoch 36/50\n",
      "12/12 [==============================] - 0s 21ms/step - loss: 0.0066 - accuracy: 0.9984 - val_loss: 0.0935 - val_accuracy: 0.9776\n",
      "Epoch 37/50\n",
      "12/12 [==============================] - 0s 21ms/step - loss: 0.0064 - accuracy: 0.9985 - val_loss: 0.0895 - val_accuracy: 0.9784\n",
      "Epoch 38/50\n",
      "12/12 [==============================] - 0s 21ms/step - loss: 0.0049 - accuracy: 0.9991 - val_loss: 0.0925 - val_accuracy: 0.9784\n",
      "Epoch 39/50\n",
      "12/12 [==============================] - 0s 21ms/step - loss: 0.0048 - accuracy: 0.9992 - val_loss: 0.0906 - val_accuracy: 0.9788\n",
      "Epoch 40/50\n",
      "12/12 [==============================] - 0s 22ms/step - loss: 0.0045 - accuracy: 0.9992 - val_loss: 0.0931 - val_accuracy: 0.9780\n",
      "Epoch 41/50\n",
      "12/12 [==============================] - 0s 24ms/step - loss: 0.0040 - accuracy: 0.9994 - val_loss: 0.0909 - val_accuracy: 0.9785\n",
      "Epoch 42/50\n",
      "12/12 [==============================] - 0s 21ms/step - loss: 0.0038 - accuracy: 0.9995 - val_loss: 0.0938 - val_accuracy: 0.9790\n",
      "Epoch 43/50\n",
      "12/12 [==============================] - 0s 23ms/step - loss: 0.0037 - accuracy: 0.9994 - val_loss: 0.0912 - val_accuracy: 0.9789\n",
      "Epoch 44/50\n",
      "12/12 [==============================] - 0s 22ms/step - loss: 0.0034 - accuracy: 0.9994 - val_loss: 0.0944 - val_accuracy: 0.9786\n",
      "Epoch 45/50\n",
      "12/12 [==============================] - 0s 21ms/step - loss: 0.0037 - accuracy: 0.9992 - val_loss: 0.0959 - val_accuracy: 0.9780\n",
      "Epoch 46/50\n",
      "12/12 [==============================] - 0s 21ms/step - loss: 0.0032 - accuracy: 0.9995 - val_loss: 0.0948 - val_accuracy: 0.9788\n",
      "Epoch 47/50\n",
      "12/12 [==============================] - 0s 21ms/step - loss: 0.0028 - accuracy: 0.9995 - val_loss: 0.0949 - val_accuracy: 0.9793\n",
      "Epoch 48/50\n",
      "12/12 [==============================] - 0s 23ms/step - loss: 0.0027 - accuracy: 0.9996 - val_loss: 0.0952 - val_accuracy: 0.9791\n",
      "Epoch 49/50\n",
      "12/12 [==============================] - 0s 23ms/step - loss: 0.0027 - accuracy: 0.9995 - val_loss: 0.0967 - val_accuracy: 0.9782\n",
      "Epoch 50/50\n",
      "12/12 [==============================] - 0s 21ms/step - loss: 0.0031 - accuracy: 0.9993 - val_loss: 0.0973 - val_accuracy: 0.9781\n",
      "\n",
      " Evaluate the new model against the test set:\n",
      "3/3 [==============================] - 0s 8ms/step - loss: 0.0906 - accuracy: 0.9784\n"
     ]
    },
    {
     "data": {
      "text/plain": [
       "[0.09064056724309921, 0.9783999919891357]"
      ]
     },
     "execution_count": 13,
     "metadata": {},
     "output_type": "execute_result"
    },
    {
     "data": {
      "image/png": "[encoded data removed]",
      "text/plain": [
       "<Figure size 640x480 with 1 Axes>"
      ]
     },
     "metadata": {},
     "output_type": "display_data"
    }
   ],
   "source": [
    "# The following variables are the hyperparameters.\n",
    "learning_rate = 0.003\n",
    "epochs = 50\n",
    "batch_size = 4000\n",
    "validation_split = 0.2\n",
    "\n",
    "# Establish the model's topography.\n",
    "my_model = create_model(learning_rate)\n",
    "\n",
    "# Train the model on the normalized training set.\n",
    "epochs, hist = train_model(my_model, x_train_normalized, y_train, \n",
    "                           epochs, batch_size, validation_split)\n",
    "\n",
    "# Plot a graph of the metric vs. epochs.\n",
    "list_of_metrics_to_plot = ['accuracy']\n",
    "plot_curve(epochs, hist, list_of_metrics_to_plot)\n",
    "\n",
    "# Evaluate against the test set.\n",
    "print(\"\\n Evaluate the new model against the test set:\")\n",
    "my_model.evaluate(x=x_test_normalized, y=y_test, batch_size=batch_size)"
   ]
  },
  {
   "cell_type": "markdown",
   "metadata": {},
   "source": [
    "### Testing for 1 example"
   ]
  },
  {
   "cell_type": "code",
   "execution_count": 44,
   "metadata": {},
   "outputs": [
    {
     "name": "stdout",
     "output_type": "stream",
     "text": [
      "1/1 [==============================] - 0s 14ms/step\n",
      "predicted: 4\n"
     ]
    },
    {
     "data": {
      "image/png": "[encoded data removed]",
      "text/plain": [
       "<Figure size 640x480 with 1 Axes>"
      ]
     },
     "metadata": {},
     "output_type": "display_data"
    }
   ],
   "source": [
    "example_idx = np.random.randint(0, x_test_normalized.shape[0])\n",
    "\n",
    "example = x_test_normalized[example_idx]\n",
    "\n",
    "# Predict expects a batch of examples, so we need to add a dimension to the example\n",
    "example = np.expand_dims(example, axis=0)\n",
    "\n",
    "plt.imshow(example[0])\n",
    "\n",
    "# Make a prediction. The output is the predicted digit.\n",
    "prediction = my_model.predict(example).argmax()\n",
    "\n",
    "print(f\"predicted: {prediction}\")"
   ]
  }
 ],
 "metadata": {
  "kernelspec": {
   "display_name": "FelipeAlbuquerque",
   "language": "python",
   "name": "python3"
  },
  "language_info": {
   "codemirror_mode": {
    "name": "ipython",
    "version": 3
   },
   "file_extension": ".py",
   "mimetype": "text/x-python",
   "name": "python",
   "nbconvert_exporter": "python",
   "pygments_lexer": "ipython3",
   "version": "3.8.18"
  }
 },
 "nbformat": 4,
 "nbformat_minor": 2
}
