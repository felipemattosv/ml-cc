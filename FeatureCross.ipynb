{
 "cells": [
  {
   "cell_type": "code",
   "execution_count": 17,
   "metadata": {},
   "outputs": [],
   "source": [
    "import numpy as np\n",
    "import pandas as pd\n",
    "import tensorflow as tf\n",
    "from tensorflow.keras import layers\n",
    "\n",
    "from matplotlib import pyplot as plt\n",
    "\n",
    "# The following lines adjust the granularity of reporting.\n",
    "pd.options.display.max_rows = 10\n",
    "pd.options.display.float_format = \"{:.1f}\".format\n",
    "\n",
    "tf.keras.backend.set_floatx('float32')"
   ]
  },
  {
   "cell_type": "code",
   "execution_count": 18,
   "metadata": {},
   "outputs": [
    {
     "name": "stdout",
     "output_type": "stream",
     "text": [
      "2.13.0\n"
     ]
    }
   ],
   "source": [
    "print(tf.__version__)"
   ]
  },
  {
   "cell_type": "code",
   "execution_count": 19,
   "metadata": {},
   "outputs": [],
   "source": [
    "# Load the dataset\n",
    "train_df = pd.read_csv(\"https://download.mlcc.google.com/mledu-datasets/california_housing_train.csv\")\n",
    "test_df = pd.read_csv(\"https://download.mlcc.google.com/mledu-datasets/california_housing_test.csv\")\n",
    "\n",
    "# Scale the labels\n",
    "scale_factor = 1000.0\n",
    "# Scale the training set's label.\n",
    "train_df[\"median_house_value\"] /= scale_factor\n",
    "\n",
    "# Scale the test set's label\n",
    "test_df[\"median_house_value\"] /= scale_factor\n",
    "\n",
    "# Shuffle the examples\n",
    "train_df = train_df.reindex(np.random.permutation(train_df.index))"
   ]
  },
  {
   "cell_type": "markdown",
   "metadata": {},
   "source": [
    "### Representing latitude and longitude as floating-point features:"
   ]
  },
  {
   "cell_type": "code",
   "execution_count": 20,
   "metadata": {},
   "outputs": [],
   "source": [
    "# Keras Input tensors of float values.\n",
    "inputs = {\n",
    "    'latitude':\n",
    "        tf.keras.layers.Input(shape=(1,), dtype=tf.float32,\n",
    "                              name='latitude'),\n",
    "    'longitude':\n",
    "        tf.keras.layers.Input(shape=(1,), dtype=tf.float32,\n",
    "                              name='longitude')\n",
    "}"
   ]
  },
  {
   "cell_type": "markdown",
   "metadata": {},
   "source": [
    "#### Defining functions to create and train a model, and a plotting function:"
   ]
  },
  {
   "cell_type": "code",
   "execution_count": 21,
   "metadata": {},
   "outputs": [],
   "source": [
    "def create_model(my_inputs, my_outputs, my_learning_rate):\n",
    "\n",
    "  model = tf.keras.Model(inputs=my_inputs, outputs=my_outputs)\n",
    "\n",
    "  # Construct the layers into a model that TensorFlow can execute.\n",
    "  model.compile(optimizer=tf.keras.optimizers.experimental.RMSprop(\n",
    "      learning_rate=my_learning_rate),\n",
    "      loss=\"mean_squared_error\",\n",
    "      metrics=[tf.keras.metrics.RootMeanSquaredError()])\n",
    "\n",
    "  return model\n",
    "\n",
    "\n",
    "def train_model(model, dataset, epochs, batch_size, label_name):\n",
    "  \"\"\"Feed a dataset into the model in order to train it.\"\"\"\n",
    "\n",
    "  features = {name:np.array(value) for name, value in dataset.items()}\n",
    "  label = np.array(features.pop(label_name))\n",
    "  history = model.fit(x=features, y=label, batch_size=batch_size,\n",
    "                      epochs=epochs, shuffle=True)\n",
    "\n",
    "  # The list of epochs is stored separately from the rest of history.\n",
    "  epochs = history.epoch\n",
    "\n",
    "  # Isolate the mean absolute error for each epoch.\n",
    "  hist = pd.DataFrame(history.history)\n",
    "  rmse = hist[\"root_mean_squared_error\"]\n",
    "\n",
    "  return epochs, rmse\n",
    "\n",
    "\n",
    "def plot_the_loss_curve(epochs, rmse):\n",
    "  \"\"\"Plot a curve of loss vs. epoch.\"\"\"\n",
    "\n",
    "  plt.figure()\n",
    "  plt.xlabel(\"Epoch\")\n",
    "  plt.ylabel(\"Root Mean Squared Error\")\n",
    "\n",
    "  plt.plot(epochs, rmse, label=\"Loss\")\n",
    "  plt.legend()\n",
    "  plt.ylim([rmse.min()*0.94, rmse.max()* 1.05])\n",
    "  plt.show()"
   ]
  },
  {
   "cell_type": "markdown",
   "metadata": {},
   "source": [
    "### Training the model with floating-point representations:"
   ]
  },
  {
   "cell_type": "code",
   "execution_count": 22,
   "metadata": {},
   "outputs": [],
   "source": [
    "# The following variables are the hyperparameters.\n",
    "learning_rate = 0.05\n",
    "epochs = 30\n",
    "batch_size = 100\n",
    "label_name = 'median_house_value'"
   ]
  },
  {
   "cell_type": "code",
   "execution_count": 23,
   "metadata": {},
   "outputs": [
    {
     "data": {
      "image/png": "[encoded data removed]",
      "text/plain": [
       "<IPython.core.display.Image object>"
      ]
     },
     "execution_count": 23,
     "metadata": {},
     "output_type": "execute_result"
    }
   ],
   "source": [
    "# The two Input layers are concatenated so they can be passed as a single\n",
    "# tensor to a Dense layer.\n",
    "preprocessing_layer = tf.keras.layers.Concatenate()(inputs.values())\n",
    "\n",
    "dense_output = layers.Dense(units=1, name='dense_layer')(preprocessing_layer)\n",
    "\n",
    "outputs = {\n",
    "  'dense_output': dense_output\n",
    "}\n",
    "\n",
    "# Create and compile the model's topography.\n",
    "my_model = create_model(inputs, outputs, learning_rate)\n",
    "\n",
    "# Display the model's architecture.\n",
    "tf.keras.utils.plot_model(my_model, show_shapes=True)"
   ]
  },
  {
   "cell_type": "code",
   "execution_count": 24,
   "metadata": {},
   "outputs": [
    {
     "name": "stdout",
     "output_type": "stream",
     "text": [
      "Epoch 1/30\n"
     ]
    },
    {
     "name": "stderr",
     "output_type": "stream",
     "text": [
      "c:\\Users\\AMD\\Anaconda3\\envs\\FelipeAlbuquerque\\lib\\site-packages\\keras\\src\\engine\\functional.py:639: UserWarning: Input dict contained keys ['housing_median_age', 'total_rooms', 'total_bedrooms', 'population', 'households', 'median_income'] which did not match any model input. They will be ignored by the model.\n",
      "  inputs = self._flatten_to_reference_inputs(inputs)\n"
     ]
    },
    {
     "name": "stdout",
     "output_type": "stream",
     "text": [
      "170/170 [==============================] - 0s 1ms/step - loss: 22496.4961 - root_mean_squared_error: 149.9883\n",
      "Epoch 2/30\n",
      "170/170 [==============================] - 0s 870us/step - loss: 13559.8066 - root_mean_squared_error: 116.4466\n",
      "Epoch 3/30\n",
      "170/170 [==============================] - 0s 870us/step - loss: 13496.6699 - root_mean_squared_error: 116.1752\n",
      "Epoch 4/30\n",
      "170/170 [==============================] - 0s 876us/step - loss: 13459.7930 - root_mean_squared_error: 116.0163\n",
      "Epoch 5/30\n",
      "170/170 [==============================] - 0s 947us/step - loss: 13409.3555 - root_mean_squared_error: 115.7988\n",
      "Epoch 6/30\n",
      "170/170 [==============================] - 0s 994us/step - loss: 13340.5479 - root_mean_squared_error: 115.5013\n",
      "Epoch 7/30\n",
      "170/170 [==============================] - 0s 882us/step - loss: 13318.6982 - root_mean_squared_error: 115.4067\n",
      "Epoch 8/30\n",
      "170/170 [==============================] - 0s 864us/step - loss: 13283.2998 - root_mean_squared_error: 115.2532\n",
      "Epoch 9/30\n",
      "170/170 [==============================] - 0s 876us/step - loss: 13242.4609 - root_mean_squared_error: 115.0759\n",
      "Epoch 10/30\n",
      "170/170 [==============================] - 0s 876us/step - loss: 13210.8447 - root_mean_squared_error: 114.9384\n",
      "Epoch 11/30\n",
      "170/170 [==============================] - 0s 900us/step - loss: 13181.6484 - root_mean_squared_error: 114.8114\n",
      "Epoch 12/30\n",
      "170/170 [==============================] - 0s 870us/step - loss: 13145.7617 - root_mean_squared_error: 114.6550\n",
      "Epoch 13/30\n",
      "170/170 [==============================] - 0s 876us/step - loss: 13099.0566 - root_mean_squared_error: 114.4511\n",
      "Epoch 14/30\n",
      "170/170 [==============================] - 0s 882us/step - loss: 13102.0225 - root_mean_squared_error: 114.4641\n",
      "Epoch 15/30\n",
      "170/170 [==============================] - 0s 876us/step - loss: 13067.1387 - root_mean_squared_error: 114.3116\n",
      "Epoch 16/30\n",
      "170/170 [==============================] - 0s 870us/step - loss: 13059.6045 - root_mean_squared_error: 114.2786\n",
      "Epoch 17/30\n",
      "170/170 [==============================] - 0s 864us/step - loss: 13015.4717 - root_mean_squared_error: 114.0854\n",
      "Epoch 18/30\n",
      "170/170 [==============================] - 0s 911us/step - loss: 13015.3896 - root_mean_squared_error: 114.0850\n",
      "Epoch 19/30\n",
      "170/170 [==============================] - 0s 894us/step - loss: 12984.3174 - root_mean_squared_error: 113.9487\n",
      "Epoch 20/30\n",
      "170/170 [==============================] - 0s 876us/step - loss: 12963.7275 - root_mean_squared_error: 113.8584\n",
      "Epoch 21/30\n",
      "170/170 [==============================] - 0s 864us/step - loss: 12951.8213 - root_mean_squared_error: 113.8061\n",
      "Epoch 22/30\n",
      "170/170 [==============================] - 0s 876us/step - loss: 12932.5654 - root_mean_squared_error: 113.7214\n",
      "Epoch 23/30\n",
      "170/170 [==============================] - 0s 870us/step - loss: 12921.3682 - root_mean_squared_error: 113.6722\n",
      "Epoch 24/30\n",
      "170/170 [==============================] - 0s 900us/step - loss: 12919.2646 - root_mean_squared_error: 113.6629\n",
      "Epoch 25/30\n",
      "170/170 [==============================] - 0s 1ms/step - loss: 12887.7676 - root_mean_squared_error: 113.5243\n",
      "Epoch 26/30\n",
      "170/170 [==============================] - 0s 876us/step - loss: 12890.0820 - root_mean_squared_error: 113.5345\n",
      "Epoch 27/30\n",
      "170/170 [==============================] - 0s 876us/step - loss: 12882.8027 - root_mean_squared_error: 113.5024\n",
      "Epoch 28/30\n",
      "170/170 [==============================] - 0s 876us/step - loss: 12874.6211 - root_mean_squared_error: 113.4664\n",
      "Epoch 29/30\n",
      "170/170 [==============================] - 0s 870us/step - loss: 12869.3154 - root_mean_squared_error: 113.4430\n",
      "Epoch 30/30\n",
      "170/170 [==============================] - 0s 888us/step - loss: 12846.7373 - root_mean_squared_error: 113.3434\n",
      "Model: \"model_4\"\n",
      "__________________________________________________________________________________________________\n",
      " Layer (type)                Output Shape                 Param #   Connected to                  \n",
      "==================================================================================================\n",
      " latitude (InputLayer)       [(None, 1)]                  0         []                            \n",
      "                                                                                                  \n",
      " longitude (InputLayer)      [(None, 1)]                  0         []                            \n",
      "                                                                                                  \n",
      " concatenate_2 (Concatenate  (None, 2)                    0         ['latitude[0][0]',            \n",
      " )                                                                   'longitude[0][0]']           \n",
      "                                                                                                  \n",
      " dense_layer (Dense)         (None, 1)                    3         ['concatenate_2[0][0]']       \n",
      "                                                                                                  \n",
      "==================================================================================================\n",
      "Total params: 3 (12.00 Byte)\n",
      "Trainable params: 3 (12.00 Byte)\n",
      "Non-trainable params: 0 (0.00 Byte)\n",
      "__________________________________________________________________________________________________\n"
     ]
    },
    {
     "data": {
      "image/png": "[encoded data removed]",
      "text/plain": [
       "<Figure size 640x480 with 1 Axes>"
      ]
     },
     "metadata": {},
     "output_type": "display_data"
    },
    {
     "name": "stdout",
     "output_type": "stream",
     "text": [
      "\n",
      ": Evaluate the new model against the test set:\n",
      "30/30 [==============================] - 0s 931us/step - loss: 12180.7197 - root_mean_squared_error: 110.3663\n"
     ]
    },
    {
     "data": {
      "text/plain": [
       "[12180.7197265625, 110.36629486083984]"
      ]
     },
     "execution_count": 24,
     "metadata": {},
     "output_type": "execute_result"
    }
   ],
   "source": [
    "# Train the model on the training set.\n",
    "epochs, rmse = train_model(my_model, train_df, epochs, batch_size, label_name)\n",
    "\n",
    "# Print out the model summary.\n",
    "my_model.summary(expand_nested=True)\n",
    "\n",
    "plot_the_loss_curve(epochs, rmse)\n",
    "\n",
    "print(\"\\n: Evaluate the new model against the test set:\")\n",
    "test_features = {name:np.array(value) for name, value in test_df.items()}\n",
    "test_label = np.array(test_features.pop(label_name))\n",
    "my_model.evaluate(x=test_features, y=test_label, batch_size=batch_size)"
   ]
  },
  {
   "cell_type": "markdown",
   "metadata": {},
   "source": [
    "### Representing latitude and longitude as floating-point values does not have much predictive power. For example, neighborhoods at latitude 35 are not 36/35 more valuable (or 35/36 less valuable) than houses at latitude 36. Representing `latitude` and `longitude` as floating-point values provides almost no predictive power. We're only using the raw values to establish a baseline for future experiments with better representations."
   ]
  },
  {
   "cell_type": "markdown",
   "metadata": {},
   "source": [
    "### Representing latitude and longitude in buckets:"
   ]
  },
  {
   "cell_type": "code",
   "execution_count": 25,
   "metadata": {},
   "outputs": [
    {
     "name": "stdout",
     "output_type": "stream",
     "text": [
      "latitude boundaries: [32.0, 33.0, 34.0, 35.0, 36.0, 37.0, 38.0, 39.0, 40.0]\n",
      "longitude boundaries: [-124.0, -123.0, -122.0, -121.0, -120.0, -119.0, -118.0, -117.0, -116.0, -115.0]\n"
     ]
    }
   ],
   "source": [
    "resolution_in_degrees = 1.0\n",
    "\n",
    "# Create a list of numbers representing the bucket boundaries for latitude.\n",
    "latitude_boundaries = list(np.arange(int(min(train_df['latitude'])),\n",
    "                                     int(max(train_df['latitude'])),\n",
    "                                     resolution_in_degrees))\n",
    "print(\"latitude boundaries: \" + str(latitude_boundaries))\n",
    "\n",
    "# Create a Discretization layer to separate the latitude data into buckets.\n",
    "latitude = tf.keras.layers.Discretization(\n",
    "    bin_boundaries=latitude_boundaries,\n",
    "    name='discretization_latitude')(inputs.get('latitude'))\n",
    "\n",
    "# Number of categories is the length of latitude_boundaries plus one.\n",
    "latitude = tf.keras.layers.CategoryEncoding(\n",
    "    num_tokens=len(latitude_boundaries) + 1,\n",
    "    output_mode='one_hot',\n",
    "    name='category_encoding_latitude')(latitude)\n",
    "\n",
    "# Create a list of numbers representing the bucket boundaries for longitude.\n",
    "longitude_boundaries = list(np.arange(int(min(train_df['longitude'])),\n",
    "                                      int(max(train_df['longitude'])),\n",
    "                                      resolution_in_degrees))\n",
    "\n",
    "print(\"longitude boundaries: \" + str(longitude_boundaries))\n",
    "\n",
    "# Create a Discretization layer to separate the longitude data into buckets.\n",
    "longitude = tf.keras.layers.Discretization(\n",
    "    bin_boundaries=longitude_boundaries,\n",
    "    name='discretization_longitude')(inputs.get('longitude'))\n",
    "\n",
    "# Number of categories is the length of longitude_boundaries plus one.\n",
    "longitude = tf.keras.layers.CategoryEncoding(\n",
    "    num_tokens=len(longitude_boundaries) + 1,\n",
    "    output_mode='one_hot',\n",
    "    name='category_encoding_longitude')(longitude)\n",
    "\n",
    "# Concatenate latitude and longitude into a single tensor as input for the Dense layer.\n",
    "concatenate_layer = tf.keras.layers.Concatenate()([latitude, longitude])\n",
    "\n",
    "dense_output = layers.Dense(units=1, name='dense_layer')(concatenate_layer)\n",
    "\n",
    "# Define an output dictionary we'll send to the model constructor.\n",
    "outputs = {\n",
    "  'dense_output': dense_output\n",
    "}"
   ]
  },
  {
   "cell_type": "markdown",
   "metadata": {},
   "source": [
    "### Training the model with bucket representations:"
   ]
  },
  {
   "cell_type": "code",
   "execution_count": 26,
   "metadata": {},
   "outputs": [
    {
     "name": "stdout",
     "output_type": "stream",
     "text": [
      "Epoch 1/35\n",
      "170/170 [==============================] - 0s 953us/step - loss: 51963.1211 - root_mean_squared_error: 227.9542\n",
      "Epoch 2/35\n",
      "170/170 [==============================] - 0s 959us/step - loss: 44559.6953 - root_mean_squared_error: 211.0917\n",
      "Epoch 3/35\n",
      "170/170 [==============================] - 0s 994us/step - loss: 37989.8789 - root_mean_squared_error: 194.9099\n",
      "Epoch 4/35\n",
      "170/170 [==============================] - 0s 965us/step - loss: 32209.1367 - root_mean_squared_error: 179.4690\n",
      "Epoch 5/35\n",
      "170/170 [==============================] - 0s 941us/step - loss: 27203.0898 - root_mean_squared_error: 164.9336\n",
      "Epoch 6/35\n",
      "170/170 [==============================] - 0s 947us/step - loss: 22938.6543 - root_mean_squared_error: 151.4551\n",
      "Epoch 7/35\n",
      "170/170 [==============================] - 0s 929us/step - loss: 19439.7305 - root_mean_squared_error: 139.4264\n",
      "Epoch 8/35\n",
      "170/170 [==============================] - 0s 953us/step - loss: 16641.4336 - root_mean_squared_error: 129.0017\n",
      "Epoch 9/35\n",
      "170/170 [==============================] - 0s 965us/step - loss: 14504.9482 - root_mean_squared_error: 120.4365\n",
      "Epoch 10/35\n",
      "170/170 [==============================] - 0s 947us/step - loss: 12979.3975 - root_mean_squared_error: 113.9272\n",
      "Epoch 11/35\n",
      "170/170 [==============================] - 0s 971us/step - loss: 11950.1191 - root_mean_squared_error: 109.3166\n",
      "Epoch 12/35\n",
      "170/170 [==============================] - 0s 953us/step - loss: 11328.0029 - root_mean_squared_error: 106.4331\n",
      "Epoch 13/35\n",
      "170/170 [==============================] - 0s 935us/step - loss: 10983.7129 - root_mean_squared_error: 104.8032\n",
      "Epoch 14/35\n",
      "170/170 [==============================] - 0s 953us/step - loss: 10794.6943 - root_mean_squared_error: 103.8975\n",
      "Epoch 15/35\n",
      "170/170 [==============================] - 0s 929us/step - loss: 10678.6211 - root_mean_squared_error: 103.3374\n",
      "Epoch 16/35\n",
      "170/170 [==============================] - 0s 953us/step - loss: 10601.5957 - root_mean_squared_error: 102.9641\n",
      "Epoch 17/35\n",
      "170/170 [==============================] - 0s 971us/step - loss: 10552.0791 - root_mean_squared_error: 102.7233\n",
      "Epoch 18/35\n",
      "170/170 [==============================] - 0s 941us/step - loss: 10518.5566 - root_mean_squared_error: 102.5600\n",
      "Epoch 19/35\n",
      "170/170 [==============================] - 0s 959us/step - loss: 10494.9824 - root_mean_squared_error: 102.4450\n",
      "Epoch 20/35\n",
      "170/170 [==============================] - 0s 953us/step - loss: 10476.5166 - root_mean_squared_error: 102.3549\n",
      "Epoch 21/35\n",
      "170/170 [==============================] - 0s 971us/step - loss: 10461.3633 - root_mean_squared_error: 102.2808\n",
      "Epoch 22/35\n",
      "170/170 [==============================] - 0s 947us/step - loss: 10448.9863 - root_mean_squared_error: 102.2203\n",
      "Epoch 23/35\n",
      "170/170 [==============================] - 0s 953us/step - loss: 10437.6162 - root_mean_squared_error: 102.1646\n",
      "Epoch 24/35\n",
      "170/170 [==============================] - 0s 941us/step - loss: 10427.5156 - root_mean_squared_error: 102.1152\n",
      "Epoch 25/35\n",
      "170/170 [==============================] - 0s 935us/step - loss: 10417.8301 - root_mean_squared_error: 102.0678\n",
      "Epoch 26/35\n",
      "170/170 [==============================] - 0s 1ms/step - loss: 10408.3750 - root_mean_squared_error: 102.0214\n",
      "Epoch 27/35\n",
      "170/170 [==============================] - 0s 1ms/step - loss: 10399.3701 - root_mean_squared_error: 101.9773\n",
      "Epoch 28/35\n",
      "170/170 [==============================] - 0s 977us/step - loss: 10391.2637 - root_mean_squared_error: 101.9375\n",
      "Epoch 29/35\n",
      "170/170 [==============================] - 0s 994us/step - loss: 10383.3066 - root_mean_squared_error: 101.8985\n",
      "Epoch 30/35\n",
      "170/170 [==============================] - 0s 982us/step - loss: 10375.0439 - root_mean_squared_error: 101.8580\n",
      "Epoch 31/35\n",
      "170/170 [==============================] - 0s 994us/step - loss: 10367.9219 - root_mean_squared_error: 101.8230\n",
      "Epoch 32/35\n",
      "170/170 [==============================] - 0s 1ms/step - loss: 10360.9648 - root_mean_squared_error: 101.7888\n",
      "Epoch 33/35\n",
      "170/170 [==============================] - 0s 1ms/step - loss: 10354.2939 - root_mean_squared_error: 101.7561\n",
      "Epoch 34/35\n",
      "170/170 [==============================] - 0s 959us/step - loss: 10347.6338 - root_mean_squared_error: 101.7233\n",
      "Epoch 35/35\n",
      "170/170 [==============================] - 0s 941us/step - loss: 10341.2383 - root_mean_squared_error: 101.6919\n",
      "Model: \"model_5\"\n",
      "__________________________________________________________________________________________________\n",
      " Layer (type)                Output Shape                 Param #   Connected to                  \n",
      "==================================================================================================\n",
      " latitude (InputLayer)       [(None, 1)]                  0         []                            \n",
      "                                                                                                  \n",
      " longitude (InputLayer)      [(None, 1)]                  0         []                            \n",
      "                                                                                                  \n",
      " discretization_latitude (D  (None, 1)                    0         ['latitude[0][0]']            \n",
      " iscretization)                                                                                   \n",
      "                                                                                                  \n",
      " discretization_longitude (  (None, 1)                    0         ['longitude[0][0]']           \n",
      " Discretization)                                                                                  \n",
      "                                                                                                  \n",
      " category_encoding_latitude  (None, 10)                   0         ['discretization_latitude[0][0\n",
      "  (CategoryEncoding)                                                ]']                           \n",
      "                                                                                                  \n",
      " category_encoding_longitud  (None, 11)                   0         ['discretization_longitude[0][\n",
      " e (CategoryEncoding)                                               0]']                          \n",
      "                                                                                                  \n",
      " concatenate_3 (Concatenate  (None, 21)                   0         ['category_encoding_latitude[0\n",
      " )                                                                  ][0]',                        \n",
      "                                                                     'category_encoding_longitude[\n",
      "                                                                    0][0]']                       \n",
      "                                                                                                  \n",
      " dense_layer (Dense)         (None, 1)                    22        ['concatenate_3[0][0]']       \n",
      "                                                                                                  \n",
      "==================================================================================================\n",
      "Total params: 22 (88.00 Byte)\n",
      "Trainable params: 22 (88.00 Byte)\n",
      "Non-trainable params: 0 (0.00 Byte)\n",
      "__________________________________________________________________________________________________\n"
     ]
    },
    {
     "data": {
      "image/png": "[encoded data removed]",
      "text/plain": [
       "<Figure size 640x480 with 1 Axes>"
      ]
     },
     "metadata": {},
     "output_type": "display_data"
    },
    {
     "name": "stdout",
     "output_type": "stream",
     "text": [
      "\n",
      ": Evaluate the new model against the test set:\n",
      "30/30 [==============================] - 0s 1000us/step - loss: 10197.6289 - root_mean_squared_error: 100.9833\n"
     ]
    },
    {
     "data": {
      "text/plain": [
       "[10197.62890625, 100.98330688476562]"
      ]
     },
     "execution_count": 26,
     "metadata": {},
     "output_type": "execute_result"
    }
   ],
   "source": [
    "# The following variables are the hyperparameters.\n",
    "learning_rate = 0.04\n",
    "epochs = 35\n",
    "\n",
    "# Build the model.\n",
    "my_model = create_model(inputs, outputs, learning_rate)\n",
    "\n",
    "# Train the model on the training set.\n",
    "epochs, rmse = train_model(my_model, train_df, epochs, batch_size, label_name)\n",
    "\n",
    "# Print out the model summary.\n",
    "my_model.summary(expand_nested=True)\n",
    "\n",
    "plot_the_loss_curve(epochs, rmse)\n",
    "\n",
    "print(\"\\n: Evaluate the new model against the test set:\")\n",
    "my_model.evaluate(x=test_features, y=test_label, batch_size=batch_size)"
   ]
  },
  {
   "cell_type": "markdown",
   "metadata": {},
   "source": [
    "## Bucket representation outperformed floating-point representations. However, you can still do far better."
   ]
  },
  {
   "cell_type": "markdown",
   "metadata": {},
   "source": [
    "## Representing location as a feature cross should produce better results.\n",
    "\n",
    "### Before, we had represented latitude in one-dimensional buckets and longitude in one-dimensional buckets. But real-world locations exist in two dimensions, so we need to work with a grid, obtained by crossing the latitude and longitude buckets.\n",
    "\n",
    "### The model will learn separate weights for each of the cells."
   ]
  },
  {
   "cell_type": "code",
   "execution_count": 27,
   "metadata": {},
   "outputs": [],
   "source": [
    "resolution_in_degrees = 1.0\n",
    "\n",
    "# Create a list of numbers representing the bucket boundaries for latitude.\n",
    "latitude_boundaries = list(np.arange(int(min(train_df['latitude'])),\n",
    "                                     int(max(train_df['latitude'])),\n",
    "                                     resolution_in_degrees))\n",
    "\n",
    "# Create a Discretization layer to separate the latitude data into buckets.\n",
    "latitude = tf.keras.layers.Discretization(\n",
    "    bin_boundaries=latitude_boundaries,\n",
    "    name='discretization_latitude')(inputs.get('latitude'))\n",
    "\n",
    "# Create a list of numbers representing the bucket boundaries for longitude.\n",
    "longitude_boundaries = list(np.arange(int(min(train_df['longitude'])),\n",
    "                                      int(max(train_df['longitude'])),\n",
    "                                      resolution_in_degrees))\n",
    "\n",
    "# Create a Discretization layer to separate the longitude data into buckets.\n",
    "longitude = tf.keras.layers.Discretization(\n",
    "    bin_boundaries=longitude_boundaries,\n",
    "    name='discretization_longitude')(inputs.get('longitude'))\n",
    "\n",
    "# Cross the latitude and longitude features into a single one-hot vector.\n",
    "feature_cross = tf.keras.layers.HashedCrossing(\n",
    "    num_bins=len(latitude_boundaries) * len(longitude_boundaries),\n",
    "    output_mode='one_hot',\n",
    "    name='cross_latitude_longitude')([latitude, longitude])\n",
    "\n",
    "dense_output = layers.Dense(units=1, name='dense_layer')(feature_cross)\n",
    "\n",
    "# Define an output dictionary we'll send to the model constructor.\n",
    "outputs = {\n",
    "  'dense_output': dense_output\n",
    "}"
   ]
  },
  {
   "cell_type": "code",
   "execution_count": 28,
   "metadata": {},
   "outputs": [
    {
     "name": "stdout",
     "output_type": "stream",
     "text": [
      "Epoch 1/35\n",
      "170/170 [==============================] - 0s 1ms/step - loss: 53538.3125 - root_mean_squared_error: 231.3835\n",
      "Epoch 2/35\n",
      "170/170 [==============================] - 0s 1ms/step - loss: 48507.5117 - root_mean_squared_error: 220.2442\n",
      "Epoch 3/35\n",
      "170/170 [==============================] - 0s 1ms/step - loss: 43815.1211 - root_mean_squared_error: 209.3206\n",
      "Epoch 4/35\n",
      "170/170 [==============================] - 0s 1ms/step - loss: 39484.3789 - root_mean_squared_error: 198.7068\n",
      "Epoch 5/35\n",
      "170/170 [==============================] - 0s 1ms/step - loss: 35458.1484 - root_mean_squared_error: 188.3033\n",
      "Epoch 6/35\n",
      "170/170 [==============================] - 0s 1ms/step - loss: 31768.6934 - root_mean_squared_error: 178.2377\n",
      "Epoch 7/35\n",
      "170/170 [==============================] - 0s 1ms/step - loss: 28415.8691 - root_mean_squared_error: 168.5701\n",
      "Epoch 8/35\n",
      "170/170 [==============================] - 0s 1ms/step - loss: 25395.5352 - root_mean_squared_error: 159.3598\n",
      "Epoch 9/35\n",
      "170/170 [==============================] - 0s 988us/step - loss: 22681.4609 - root_mean_squared_error: 150.6037\n",
      "Epoch 10/35\n",
      "170/170 [==============================] - 0s 1ms/step - loss: 20281.2285 - root_mean_squared_error: 142.4122\n",
      "Epoch 11/35\n",
      "170/170 [==============================] - 0s 1ms/step - loss: 18148.4141 - root_mean_squared_error: 134.7161\n",
      "Epoch 12/35\n",
      "170/170 [==============================] - 0s 1ms/step - loss: 16328.9766 - root_mean_squared_error: 127.7849\n",
      "Epoch 13/35\n",
      "170/170 [==============================] - 0s 1ms/step - loss: 14766.6387 - root_mean_squared_error: 121.5181\n",
      "Epoch 14/35\n",
      "170/170 [==============================] - 0s 982us/step - loss: 13447.1504 - root_mean_squared_error: 115.9618\n",
      "Epoch 15/35\n",
      "170/170 [==============================] - 0s 977us/step - loss: 12396.6592 - root_mean_squared_error: 111.3403\n",
      "Epoch 16/35\n",
      "170/170 [==============================] - 0s 1ms/step - loss: 11553.5127 - root_mean_squared_error: 107.4873\n",
      "Epoch 17/35\n",
      "170/170 [==============================] - 0s 977us/step - loss: 10925.5527 - root_mean_squared_error: 104.5254\n",
      "Epoch 18/35\n",
      "170/170 [==============================] - 0s 977us/step - loss: 10491.5117 - root_mean_squared_error: 102.4281\n",
      "Epoch 19/35\n",
      "170/170 [==============================] - 0s 977us/step - loss: 10203.3701 - root_mean_squared_error: 101.0117\n",
      "Epoch 20/35\n",
      "170/170 [==============================] - 0s 965us/step - loss: 10015.9854 - root_mean_squared_error: 100.0799\n",
      "Epoch 21/35\n",
      "170/170 [==============================] - 0s 971us/step - loss: 9882.8877 - root_mean_squared_error: 99.4127\n",
      "Epoch 22/35\n",
      "170/170 [==============================] - 0s 1ms/step - loss: 9788.4580 - root_mean_squared_error: 98.9366\n",
      "Epoch 23/35\n",
      "170/170 [==============================] - 0s 1ms/step - loss: 9714.9141 - root_mean_squared_error: 98.5643\n",
      "Epoch 24/35\n",
      "170/170 [==============================] - 0s 988us/step - loss: 9658.1494 - root_mean_squared_error: 98.2759\n",
      "Epoch 25/35\n",
      "170/170 [==============================] - 0s 994us/step - loss: 9617.0127 - root_mean_squared_error: 98.0664\n",
      "Epoch 26/35\n",
      "170/170 [==============================] - 0s 988us/step - loss: 9585.7598 - root_mean_squared_error: 97.9069\n",
      "Epoch 27/35\n",
      "170/170 [==============================] - 0s 1ms/step - loss: 9562.7012 - root_mean_squared_error: 97.7891\n",
      "Epoch 28/35\n",
      "170/170 [==============================] - 0s 1ms/step - loss: 9545.0518 - root_mean_squared_error: 97.6988\n",
      "Epoch 29/35\n",
      "170/170 [==============================] - 0s 988us/step - loss: 9531.4951 - root_mean_squared_error: 97.6294\n",
      "Epoch 30/35\n",
      "170/170 [==============================] - 0s 977us/step - loss: 9521.6191 - root_mean_squared_error: 97.5788\n",
      "Epoch 31/35\n",
      "170/170 [==============================] - 0s 994us/step - loss: 9513.8789 - root_mean_squared_error: 97.5391\n",
      "Epoch 32/35\n",
      "170/170 [==============================] - 0s 1ms/step - loss: 9507.8711 - root_mean_squared_error: 97.5083\n",
      "Epoch 33/35\n",
      "170/170 [==============================] - 0s 1ms/step - loss: 9503.0322 - root_mean_squared_error: 97.4835\n",
      "Epoch 34/35\n",
      "170/170 [==============================] - 0s 1ms/step - loss: 9499.3057 - root_mean_squared_error: 97.4644\n",
      "Epoch 35/35\n",
      "170/170 [==============================] - 0s 971us/step - loss: 9496.1992 - root_mean_squared_error: 97.4484\n",
      "Model: \"model_6\"\n",
      "__________________________________________________________________________________________________\n",
      " Layer (type)                Output Shape                 Param #   Connected to                  \n",
      "==================================================================================================\n",
      " latitude (InputLayer)       [(None, 1)]                  0         []                            \n",
      "                                                                                                  \n",
      " longitude (InputLayer)      [(None, 1)]                  0         []                            \n",
      "                                                                                                  \n",
      " discretization_latitude (D  (None, 1)                    0         ['latitude[0][0]']            \n",
      " iscretization)                                                                                   \n",
      "                                                                                                  \n",
      " discretization_longitude (  (None, 1)                    0         ['longitude[0][0]']           \n",
      " Discretization)                                                                                  \n",
      "                                                                                                  \n",
      " cross_latitude_longitude (  (None, 90)                   0         ['discretization_latitude[0][0\n",
      " HashedCrossing)                                                    ]',                           \n",
      "                                                                     'discretization_longitude[0][\n",
      "                                                                    0]']                          \n",
      "                                                                                                  \n",
      " dense_layer (Dense)         (None, 1)                    91        ['cross_latitude_longitude[0][\n",
      "                                                                    0]']                          \n",
      "                                                                                                  \n",
      "==================================================================================================\n",
      "Total params: 91 (364.00 Byte)\n",
      "Trainable params: 91 (364.00 Byte)\n",
      "Non-trainable params: 0 (0.00 Byte)\n",
      "__________________________________________________________________________________________________\n"
     ]
    },
    {
     "data": {
      "image/png": "[encoded data removed]",
      "text/plain": [
       "<Figure size 640x480 with 1 Axes>"
      ]
     },
     "metadata": {},
     "output_type": "display_data"
    },
    {
     "name": "stdout",
     "output_type": "stream",
     "text": [
      "\n",
      ": Evaluate the new model against the test set:\n",
      "30/30 [==============================] - 0s 1ms/step - loss: 9321.5557 - root_mean_squared_error: 96.5482\n"
     ]
    },
    {
     "data": {
      "text/plain": [
       "[9321.5556640625, 96.54820251464844]"
      ]
     },
     "execution_count": 28,
     "metadata": {},
     "output_type": "execute_result"
    }
   ],
   "source": [
    "# The following variables are the hyperparameters.\n",
    "learning_rate = 0.04\n",
    "epochs = 35\n",
    "\n",
    "# Build the model, this time passing in the feature_cross_feature_layer:\n",
    "my_model = create_model(inputs, outputs, learning_rate)\n",
    "\n",
    "# Train the model on the training set.\n",
    "epochs, rmse = train_model(my_model, train_df, epochs, batch_size, label_name)\n",
    "\n",
    "# Print out the model summary.\n",
    "my_model.summary(expand_nested=True)\n",
    "\n",
    "plot_the_loss_curve(epochs, rmse)\n",
    "\n",
    "print(\"\\n: Evaluate the new model against the test set:\")\n",
    "my_model.evaluate(x=test_features, y=test_label, batch_size=batch_size)"
   ]
  },
  {
   "cell_type": "markdown",
   "metadata": {},
   "source": [
    "## Adjusting the resolution of the feature cross\n",
    "\n",
    "Notice that `resolution_in_degrees` is set to 1.0. Therefore, each cell represents an area of 1.0 degree of latitude by 1.0 degree of longitude, which corresponds to a cell of 110 km by 90 km.  This resolution defines a rather large neighborhood."
   ]
  },
  {
   "cell_type": "code",
   "execution_count": 29,
   "metadata": {},
   "outputs": [],
   "source": [
    "resolution_in_degrees = 0.4\n",
    "\n",
    "# Create a list of numbers representing the bucket boundaries for latitude.\n",
    "latitude_boundaries = list(np.arange(int(min(train_df['latitude'])),\n",
    "                                     int(max(train_df['latitude'])),\n",
    "                                     resolution_in_degrees))\n",
    "\n",
    "# Create a Discretization layer to separate the latitude data into buckets.\n",
    "latitude = tf.keras.layers.Discretization(\n",
    "    bin_boundaries=latitude_boundaries,\n",
    "    name='discretization_latitude')(inputs.get('latitude'))\n",
    "\n",
    "# Create a list of numbers representing the bucket boundaries for longitude.\n",
    "longitude_boundaries = list(np.arange(int(min(train_df['longitude'])),\n",
    "                                      int(max(train_df['longitude'])),\n",
    "                                      resolution_in_degrees))\n",
    "\n",
    "# Create a Discretization layer to separate the longitude data into buckets.\n",
    "longitude = tf.keras.layers.Discretization(\n",
    "    bin_boundaries=longitude_boundaries,\n",
    "    name='discretization_longitude')(inputs.get('longitude'))\n",
    "\n",
    "# Cross the latitude and longitude features into a single one-hot vector.\n",
    "feature_cross = tf.keras.layers.HashedCrossing(\n",
    "    num_bins=len(latitude_boundaries) * len(longitude_boundaries),\n",
    "    output_mode='one_hot',\n",
    "    name='cross_latitude_longitude')([latitude, longitude])\n",
    "\n",
    "dense_output = layers.Dense(units=1, name='dense_layer')(feature_cross)\n",
    "\n",
    "# Define an output dictionary we'll send to the model constructor.\n",
    "outputs = {\n",
    "  'dense_output': dense_output\n",
    "}"
   ]
  },
  {
   "cell_type": "code",
   "execution_count": 30,
   "metadata": {},
   "outputs": [
    {
     "name": "stdout",
     "output_type": "stream",
     "text": [
      "Epoch 1/35\n",
      "170/170 [==============================] - 0s 1ms/step - loss: 53706.1406 - root_mean_squared_error: 231.7458\n",
      "Epoch 2/35\n",
      "170/170 [==============================] - 0s 1ms/step - loss: 48960.7266 - root_mean_squared_error: 221.2707\n",
      "Epoch 3/35\n",
      "170/170 [==============================] - 0s 1ms/step - loss: 44514.5273 - root_mean_squared_error: 210.9847\n",
      "Epoch 4/35\n",
      "170/170 [==============================] - 0s 1ms/step - loss: 40351.4727 - root_mean_squared_error: 200.8768\n",
      "Epoch 5/35\n",
      "170/170 [==============================] - 0s 1ms/step - loss: 36505.5078 - root_mean_squared_error: 191.0641\n",
      "Epoch 6/35\n",
      "170/170 [==============================] - 0s 1ms/step - loss: 32945.3242 - root_mean_squared_error: 181.5085\n",
      "Epoch 7/35\n",
      "170/170 [==============================] - 0s 1ms/step - loss: 29666.8164 - root_mean_squared_error: 172.2406\n",
      "Epoch 8/35\n",
      "170/170 [==============================] - 0s 1ms/step - loss: 26684.1426 - root_mean_squared_error: 163.3528\n",
      "Epoch 9/35\n",
      "170/170 [==============================] - 0s 1ms/step - loss: 23973.4434 - root_mean_squared_error: 154.8336\n",
      "Epoch 10/35\n",
      "170/170 [==============================] - 0s 1ms/step - loss: 21531.2461 - root_mean_squared_error: 146.7353\n",
      "Epoch 11/35\n",
      "170/170 [==============================] - 0s 1ms/step - loss: 19373.2773 - root_mean_squared_error: 139.1879\n",
      "Epoch 12/35\n",
      "170/170 [==============================] - 0s 1ms/step - loss: 17455.1172 - root_mean_squared_error: 132.1178\n",
      "Epoch 13/35\n",
      "170/170 [==============================] - 0s 1ms/step - loss: 15805.7148 - root_mean_squared_error: 125.7208\n",
      "Epoch 14/35\n",
      "170/170 [==============================] - 0s 1ms/step - loss: 14361.8311 - root_mean_squared_error: 119.8409\n",
      "Epoch 15/35\n",
      "170/170 [==============================] - 0s 1ms/step - loss: 13157.5957 - root_mean_squared_error: 114.7066\n",
      "Epoch 16/35\n",
      "170/170 [==============================] - 0s 1ms/step - loss: 12158.4619 - root_mean_squared_error: 110.2654\n",
      "Epoch 17/35\n",
      "170/170 [==============================] - 0s 1ms/step - loss: 11342.1113 - root_mean_squared_error: 106.4994\n",
      "Epoch 18/35\n",
      "170/170 [==============================] - 0s 1ms/step - loss: 10687.5273 - root_mean_squared_error: 103.3805\n",
      "Epoch 19/35\n",
      "170/170 [==============================] - 0s 1ms/step - loss: 10181.3271 - root_mean_squared_error: 100.9026\n",
      "Epoch 20/35\n",
      "170/170 [==============================] - 0s 1ms/step - loss: 9789.4668 - root_mean_squared_error: 98.9417\n",
      "Epoch 21/35\n",
      "170/170 [==============================] - 0s 1ms/step - loss: 9491.0771 - root_mean_squared_error: 97.4222\n",
      "Epoch 22/35\n",
      "170/170 [==============================] - 0s 1ms/step - loss: 9248.8506 - root_mean_squared_error: 96.1709\n",
      "Epoch 23/35\n",
      "170/170 [==============================] - 0s 1ms/step - loss: 9040.4932 - root_mean_squared_error: 95.0815\n",
      "Epoch 24/35\n",
      "170/170 [==============================] - 0s 1ms/step - loss: 8858.0332 - root_mean_squared_error: 94.1171\n",
      "Epoch 25/35\n",
      "170/170 [==============================] - 0s 1ms/step - loss: 8695.8145 - root_mean_squared_error: 93.2514\n",
      "Epoch 26/35\n",
      "170/170 [==============================] - 0s 1ms/step - loss: 8549.5342 - root_mean_squared_error: 92.4637\n",
      "Epoch 27/35\n",
      "170/170 [==============================] - 0s 1ms/step - loss: 8419.1973 - root_mean_squared_error: 91.7562\n",
      "Epoch 28/35\n",
      "170/170 [==============================] - 0s 1ms/step - loss: 8304.2695 - root_mean_squared_error: 91.1278\n",
      "Epoch 29/35\n",
      "170/170 [==============================] - 0s 1ms/step - loss: 8202.3516 - root_mean_squared_error: 90.5668\n",
      "Epoch 30/35\n",
      "170/170 [==============================] - 0s 1ms/step - loss: 8111.0015 - root_mean_squared_error: 90.0611\n",
      "Epoch 31/35\n",
      "170/170 [==============================] - 0s 1ms/step - loss: 8030.5146 - root_mean_squared_error: 89.6131\n",
      "Epoch 32/35\n",
      "170/170 [==============================] - 0s 1ms/step - loss: 7957.9556 - root_mean_squared_error: 89.2074\n",
      "Epoch 33/35\n",
      "170/170 [==============================] - 0s 1ms/step - loss: 7894.9727 - root_mean_squared_error: 88.8537\n",
      "Epoch 34/35\n",
      "170/170 [==============================] - 0s 1ms/step - loss: 7838.8638 - root_mean_squared_error: 88.5374\n",
      "Epoch 35/35\n",
      "170/170 [==============================] - 0s 1ms/step - loss: 7790.3032 - root_mean_squared_error: 88.2627\n",
      "Model: \"model_7\"\n",
      "__________________________________________________________________________________________________\n",
      " Layer (type)                Output Shape                 Param #   Connected to                  \n",
      "==================================================================================================\n",
      " latitude (InputLayer)       [(None, 1)]                  0         []                            \n",
      "                                                                                                  \n",
      " longitude (InputLayer)      [(None, 1)]                  0         []                            \n",
      "                                                                                                  \n",
      " discretization_latitude (D  (None, 1)                    0         ['latitude[0][0]']            \n",
      " iscretization)                                                                                   \n",
      "                                                                                                  \n",
      " discretization_longitude (  (None, 1)                    0         ['longitude[0][0]']           \n",
      " Discretization)                                                                                  \n",
      "                                                                                                  \n",
      " cross_latitude_longitude (  (None, 575)                  0         ['discretization_latitude[0][0\n",
      " HashedCrossing)                                                    ]',                           \n",
      "                                                                     'discretization_longitude[0][\n",
      "                                                                    0]']                          \n",
      "                                                                                                  \n",
      " dense_layer (Dense)         (None, 1)                    576       ['cross_latitude_longitude[0][\n",
      "                                                                    0]']                          \n",
      "                                                                                                  \n",
      "==================================================================================================\n",
      "Total params: 576 (2.25 KB)\n",
      "Trainable params: 576 (2.25 KB)\n",
      "Non-trainable params: 0 (0.00 Byte)\n",
      "__________________________________________________________________________________________________\n"
     ]
    },
    {
     "data": {
      "image/png": "[encoded data removed]",
      "text/plain": [
       "<Figure size 640x480 with 1 Axes>"
      ]
     },
     "metadata": {},
     "output_type": "display_data"
    },
    {
     "name": "stdout",
     "output_type": "stream",
     "text": [
      "\n",
      ": Evaluate the new model against the test set:\n",
      "30/30 [==============================] - 0s 2ms/step - loss: 7854.2866 - root_mean_squared_error: 88.6244\n"
     ]
    },
    {
     "data": {
      "text/plain": [
       "[7854.28662109375, 88.6244125366211]"
      ]
     },
     "execution_count": 30,
     "metadata": {},
     "output_type": "execute_result"
    }
   ],
   "source": [
    "# The following variables are the hyperparameters.\n",
    "learning_rate = 0.04\n",
    "epochs = 35\n",
    "\n",
    "# Build the model, this time passing in the feature_cross_feature_layer:\n",
    "my_model = create_model(inputs, outputs, learning_rate)\n",
    "\n",
    "# Train the model on the training set.\n",
    "epochs, rmse = train_model(my_model, train_df, epochs, batch_size, label_name)\n",
    "\n",
    "# Print out the model summary.\n",
    "my_model.summary(expand_nested=True)\n",
    "\n",
    "plot_the_loss_curve(epochs, rmse)\n",
    "\n",
    "print(\"\\n: Evaluate the new model against the test set:\")\n",
    "my_model.evaluate(x=test_features, y=test_label, batch_size=batch_size)"
   ]
  },
  {
   "cell_type": "markdown",
   "metadata": {},
   "source": [
    "After all this treatment, we reduced the RMSE in $ 110.3 - 88.6 = 21.7 $, i.e., $ (21.7 / 110.3) * 100 = 19.7  $%"
   ]
  }
 ],
 "metadata": {
  "kernelspec": {
   "display_name": "FelipeAlbuquerque",
   "language": "python",
   "name": "python3"
  },
  "language_info": {
   "codemirror_mode": {
    "name": "ipython",
    "version": 3
   },
   "file_extension": ".py",
   "mimetype": "text/x-python",
   "name": "python",
   "nbconvert_exporter": "python",
   "pygments_lexer": "ipython3",
   "version": "3.8.18"
  }
 },
 "nbformat": 4,
 "nbformat_minor": 2
}
